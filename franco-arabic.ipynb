{
 "cells": [
  {
   "cell_type": "code",
   "execution_count": 1,
   "metadata": {
    "execution": {
     "iopub.execute_input": "2021-05-26T19:01:21.283025Z",
     "iopub.status.busy": "2021-05-26T19:01:21.272276Z",
     "iopub.status.idle": "2021-05-26T19:03:01.440264Z",
     "shell.execute_reply": "2021-05-26T19:03:01.439650Z",
     "shell.execute_reply.started": "2021-05-25T15:26:07.056213Z"
    },
    "papermill": {
     "duration": 100.189479,
     "end_time": "2021-05-26T19:03:01.440477",
     "exception": false,
     "start_time": "2021-05-26T19:01:21.250998",
     "status": "completed"
    },
    "tags": []
   },
   "outputs": [
    {
     "name": "stdout",
     "output_type": "stream",
     "text": [
      "Collecting SpellChecker\r\n",
      "  Downloading spellchecker-0.4.tar.gz (3.9 MB)\r\n",
      "\u001b[K     |████████████████████████████████| 3.9 MB 1.2 MB/s \r\n",
      "\u001b[?25hRequirement already satisfied: setuptools in /opt/conda/lib/python3.7/site-packages (from SpellChecker) (49.6.0.post20201009)\r\n",
      "Collecting inexactsearch\r\n",
      "  Downloading inexactsearch-1.0.2.tar.gz (21 kB)\r\n",
      "Collecting soundex>=1.0\r\n",
      "  Downloading soundex-1.1.3.tar.gz (9.1 kB)\r\n",
      "Collecting silpa_common>=0.3\r\n",
      "  Downloading silpa_common-0.3.tar.gz (9.4 kB)\r\n",
      "Building wheels for collected packages: SpellChecker, inexactsearch, silpa-common, soundex\r\n",
      "  Building wheel for SpellChecker (setup.py) ... \u001b[?25l-\b \b\\\b \b|\b \b/\b \b-\b \b\\\b \b|\b \b/\b \b-\b \bdone\r\n",
      "\u001b[?25h  Created wheel for SpellChecker: filename=spellchecker-0.4-py3-none-any.whl size=3966516 sha256=04174a4e8569ad0052816e5e90b53d987b4360ab6b4e1101df77b066c69ea19e\r\n",
      "  Stored in directory: /root/.cache/pip/wheels/58/e9/48/b82b733a7a0a9cc52ed239ccf082ff33e2fbda71670ddd3349\r\n",
      "  Building wheel for inexactsearch (setup.py) ... \u001b[?25l-\b \b\\\b \bdone\r\n",
      "\u001b[?25h  Created wheel for inexactsearch: filename=inexactsearch-1.0.2-py3-none-any.whl size=7112 sha256=8e626e90dcf93ccf3e8439b51c8891a0b8057a0f88f008e5c595814aa6176fdb\r\n",
      "  Stored in directory: /root/.cache/pip/wheels/3c/f3/5d/77e8983e86af1c3c62b80d76de8020f560ce6367f1b2763b40\r\n",
      "  Building wheel for silpa-common (setup.py) ... \u001b[?25l-\b \b\\\b \bdone\r\n",
      "\u001b[?25h  Created wheel for silpa-common: filename=silpa_common-0.3-py3-none-any.whl size=8452 sha256=aa7f3a79416511fd08137135ec3f07084702a4e2208a7ec652940138da411a13\r\n",
      "  Stored in directory: /root/.cache/pip/wheels/02/81/11/40ef1cf40f5c4021a214653ca3362914f0f9e14e8322f75f9b\r\n",
      "  Building wheel for soundex (setup.py) ... \u001b[?25l-\b \b\\\b \bdone\r\n",
      "\u001b[?25h  Created wheel for soundex: filename=soundex-1.1.3-py3-none-any.whl size=8861 sha256=37651de30333fb8405fef84b2905790acce255b6068a0ef4fdccbc423b027a2c\r\n",
      "  Stored in directory: /root/.cache/pip/wheels/6b/22/0f/0ac590ac1dc0fa60f57151bf39f1fae86a9978a1d54b48e197\r\n",
      "Successfully built SpellChecker inexactsearch silpa-common soundex\r\n",
      "Installing collected packages: silpa-common, soundex, inexactsearch, SpellChecker\r\n",
      "Successfully installed SpellChecker-0.4 inexactsearch-1.0.2 silpa-common-0.3 soundex-1.1.3\r\n",
      "\u001b[33mWARNING: You are using pip version 21.0; however, version 21.1.2 is available.\r\n",
      "You should consider upgrading via the '/opt/conda/bin/python3.7 -m pip install --upgrade pip' command.\u001b[0m\r\n",
      "Collecting swifter\r\n",
      "  Downloading swifter-1.0.7.tar.gz (633 kB)\r\n",
      "\u001b[K     |████████████████████████████████| 633 kB 1.3 MB/s \r\n",
      "\u001b[?25hRequirement already satisfied: pandas>=1.0.0 in /opt/conda/lib/python3.7/site-packages (from swifter) (1.1.5)\r\n",
      "Requirement already satisfied: psutil>=5.6.6 in /opt/conda/lib/python3.7/site-packages (from swifter) (5.8.0)\r\n",
      "Requirement already satisfied: dask[dataframe]>=2.10.0 in /opt/conda/lib/python3.7/site-packages (from swifter) (2021.1.1)\r\n",
      "Requirement already satisfied: tqdm>=4.33.0 in /opt/conda/lib/python3.7/site-packages (from swifter) (4.55.1)\r\n",
      "Requirement already satisfied: ipywidgets>=7.0.0cloudpickle>=0.2.2 in /opt/conda/lib/python3.7/site-packages (from swifter) (7.6.2)\r\n",
      "Requirement already satisfied: parso>0.4.0 in /opt/conda/lib/python3.7/site-packages (from swifter) (0.8.1)\r\n",
      "Requirement already satisfied: bleach>=3.1.1 in /opt/conda/lib/python3.7/site-packages (from swifter) (3.2.1)\r\n",
      "Collecting modin[ray]>=0.8.1.1\r\n",
      "  Downloading modin-0.9.1-py3-none-manylinux1_x86_64.whl (579 kB)\r\n",
      "\u001b[K     |████████████████████████████████| 579 kB 5.9 MB/s \r\n",
      "\u001b[?25hRequirement already satisfied: packaging in /opt/conda/lib/python3.7/site-packages (from bleach>=3.1.1->swifter) (20.8)\r\n",
      "Requirement already satisfied: six>=1.9.0 in /opt/conda/lib/python3.7/site-packages (from bleach>=3.1.1->swifter) (1.15.0)\r\n",
      "Requirement already satisfied: webencodings in /opt/conda/lib/python3.7/site-packages (from bleach>=3.1.1->swifter) (0.5.1)\r\n",
      "Requirement already satisfied: pyyaml in /opt/conda/lib/python3.7/site-packages (from dask[dataframe]>=2.10.0->swifter) (5.3.1)\r\n",
      "Requirement already satisfied: fsspec>=0.6.0 in /opt/conda/lib/python3.7/site-packages (from dask[dataframe]>=2.10.0->swifter) (0.8.5)\r\n",
      "Requirement already satisfied: toolz>=0.8.2 in /opt/conda/lib/python3.7/site-packages (from dask[dataframe]>=2.10.0->swifter) (0.11.1)\r\n",
      "Requirement already satisfied: partd>=0.3.10 in /opt/conda/lib/python3.7/site-packages (from dask[dataframe]>=2.10.0->swifter) (1.1.0)\r\n",
      "Requirement already satisfied: numpy>=1.15.1 in /opt/conda/lib/python3.7/site-packages (from dask[dataframe]>=2.10.0->swifter) (1.19.5)\r\n",
      "Requirement already satisfied: traitlets>=4.3.1 in /opt/conda/lib/python3.7/site-packages (from ipywidgets>=7.0.0cloudpickle>=0.2.2->swifter) (5.0.5)\r\n",
      "Requirement already satisfied: jupyterlab-widgets>=1.0.0 in /opt/conda/lib/python3.7/site-packages (from ipywidgets>=7.0.0cloudpickle>=0.2.2->swifter) (1.0.0)\r\n",
      "Requirement already satisfied: ipykernel>=4.5.1 in /opt/conda/lib/python3.7/site-packages (from ipywidgets>=7.0.0cloudpickle>=0.2.2->swifter) (5.1.1)\r\n",
      "Requirement already satisfied: ipython>=4.0.0 in /opt/conda/lib/python3.7/site-packages (from ipywidgets>=7.0.0cloudpickle>=0.2.2->swifter) (7.19.0)\r\n",
      "Requirement already satisfied: nbformat>=4.2.0 in /opt/conda/lib/python3.7/site-packages (from ipywidgets>=7.0.0cloudpickle>=0.2.2->swifter) (5.0.8)\r\n",
      "Requirement already satisfied: widgetsnbextension~=3.5.0 in /opt/conda/lib/python3.7/site-packages (from ipywidgets>=7.0.0cloudpickle>=0.2.2->swifter) (3.5.1)\r\n",
      "Requirement already satisfied: jupyter-client in /opt/conda/lib/python3.7/site-packages (from ipykernel>=4.5.1->ipywidgets>=7.0.0cloudpickle>=0.2.2->swifter) (6.1.7)\r\n",
      "Requirement already satisfied: tornado>=4.2 in /opt/conda/lib/python3.7/site-packages (from ipykernel>=4.5.1->ipywidgets>=7.0.0cloudpickle>=0.2.2->swifter) (5.0.2)\r\n",
      "Requirement already satisfied: pickleshare in /opt/conda/lib/python3.7/site-packages (from ipython>=4.0.0->ipywidgets>=7.0.0cloudpickle>=0.2.2->swifter) (0.7.5)\r\n",
      "Requirement already satisfied: setuptools>=18.5 in /opt/conda/lib/python3.7/site-packages (from ipython>=4.0.0->ipywidgets>=7.0.0cloudpickle>=0.2.2->swifter) (49.6.0.post20201009)\r\n",
      "Requirement already satisfied: jedi>=0.10 in /opt/conda/lib/python3.7/site-packages (from ipython>=4.0.0->ipywidgets>=7.0.0cloudpickle>=0.2.2->swifter) (0.18.0)\r\n",
      "Requirement already satisfied: pygments in /opt/conda/lib/python3.7/site-packages (from ipython>=4.0.0->ipywidgets>=7.0.0cloudpickle>=0.2.2->swifter) (2.7.3)\r\n",
      "Requirement already satisfied: pexpect>4.3 in /opt/conda/lib/python3.7/site-packages (from ipython>=4.0.0->ipywidgets>=7.0.0cloudpickle>=0.2.2->swifter) (4.8.0)\r\n",
      "Requirement already satisfied: prompt-toolkit!=3.0.0,!=3.0.1,<3.1.0,>=2.0.0 in /opt/conda/lib/python3.7/site-packages (from ipython>=4.0.0->ipywidgets>=7.0.0cloudpickle>=0.2.2->swifter) (3.0.8)\r\n",
      "Requirement already satisfied: backcall in /opt/conda/lib/python3.7/site-packages (from ipython>=4.0.0->ipywidgets>=7.0.0cloudpickle>=0.2.2->swifter) (0.2.0)\r\n",
      "Requirement already satisfied: decorator in /opt/conda/lib/python3.7/site-packages (from ipython>=4.0.0->ipywidgets>=7.0.0cloudpickle>=0.2.2->swifter) (4.4.2)\r\n",
      "Collecting pandas>=1.0.0\r\n",
      "  Downloading pandas-1.2.3-cp37-cp37m-manylinux1_x86_64.whl (9.9 MB)\r\n",
      "\u001b[K     |████████████████████████████████| 9.9 MB 9.5 MB/s \r\n",
      "\u001b[?25hCollecting pyarrow==1.0\r\n",
      "  Downloading pyarrow-1.0.0-cp37-cp37m-manylinux2014_x86_64.whl (17.2 MB)\r\n",
      "\u001b[K     |████████████████████████████████| 17.2 MB 22.2 MB/s \r\n",
      "\u001b[?25hRequirement already satisfied: ray<1.2.0,>=1.0.0 in /opt/conda/lib/python3.7/site-packages (from modin[ray]>=0.8.1.1->swifter) (1.1.0)\r\n",
      "Requirement already satisfied: python-dateutil>=2.7.3 in /opt/conda/lib/python3.7/site-packages (from pandas>=1.0.0->swifter) (2.8.1)\r\n",
      "Requirement already satisfied: pytz>=2017.3 in /opt/conda/lib/python3.7/site-packages (from pandas>=1.0.0->swifter) (2019.3)\r\n",
      "Requirement already satisfied: jsonschema!=2.5.0,>=2.4 in /opt/conda/lib/python3.7/site-packages (from nbformat>=4.2.0->ipywidgets>=7.0.0cloudpickle>=0.2.2->swifter) (3.2.0)\r\n",
      "Requirement already satisfied: jupyter-core in /opt/conda/lib/python3.7/site-packages (from nbformat>=4.2.0->ipywidgets>=7.0.0cloudpickle>=0.2.2->swifter) (4.7.0)\r\n",
      "Requirement already satisfied: ipython-genutils in /opt/conda/lib/python3.7/site-packages (from nbformat>=4.2.0->ipywidgets>=7.0.0cloudpickle>=0.2.2->swifter) (0.2.0)\r\n",
      "Requirement already satisfied: importlib-metadata in /opt/conda/lib/python3.7/site-packages (from jsonschema!=2.5.0,>=2.4->nbformat>=4.2.0->ipywidgets>=7.0.0cloudpickle>=0.2.2->swifter) (3.3.0)\r\n",
      "Requirement already satisfied: pyrsistent>=0.14.0 in /opt/conda/lib/python3.7/site-packages (from jsonschema!=2.5.0,>=2.4->nbformat>=4.2.0->ipywidgets>=7.0.0cloudpickle>=0.2.2->swifter) (0.17.3)\r\n",
      "Requirement already satisfied: attrs>=17.4.0 in /opt/conda/lib/python3.7/site-packages (from jsonschema!=2.5.0,>=2.4->nbformat>=4.2.0->ipywidgets>=7.0.0cloudpickle>=0.2.2->swifter) (20.3.0)\r\n",
      "Requirement already satisfied: locket in /opt/conda/lib/python3.7/site-packages (from partd>=0.3.10->dask[dataframe]>=2.10.0->swifter) (0.2.1)\r\n",
      "Requirement already satisfied: ptyprocess>=0.5 in /opt/conda/lib/python3.7/site-packages (from pexpect>4.3->ipython>=4.0.0->ipywidgets>=7.0.0cloudpickle>=0.2.2->swifter) (0.7.0)\r\n",
      "Requirement already satisfied: wcwidth in /opt/conda/lib/python3.7/site-packages (from prompt-toolkit!=3.0.0,!=3.0.1,<3.1.0,>=2.0.0->ipython>=4.0.0->ipywidgets>=7.0.0cloudpickle>=0.2.2->swifter) (0.2.5)\r\n",
      "Requirement already satisfied: msgpack<2.0.0,>=1.0.0 in /opt/conda/lib/python3.7/site-packages (from ray<1.2.0,>=1.0.0->modin[ray]>=0.8.1.1->swifter) (1.0.2)\r\n",
      "Requirement already satisfied: py-spy>=0.2.0 in /opt/conda/lib/python3.7/site-packages (from ray<1.2.0,>=1.0.0->modin[ray]>=0.8.1.1->swifter) (0.3.4)\r\n",
      "Requirement already satisfied: grpcio>=1.28.1 in /opt/conda/lib/python3.7/site-packages (from ray<1.2.0,>=1.0.0->modin[ray]>=0.8.1.1->swifter) (1.32.0)\r\n",
      "Requirement already satisfied: colorful in /opt/conda/lib/python3.7/site-packages (from ray<1.2.0,>=1.0.0->modin[ray]>=0.8.1.1->swifter) (0.5.4)\r\n",
      "Requirement already satisfied: filelock in /opt/conda/lib/python3.7/site-packages (from ray<1.2.0,>=1.0.0->modin[ray]>=0.8.1.1->swifter) (3.0.12)\r\n",
      "Requirement already satisfied: aiohttp in /opt/conda/lib/python3.7/site-packages (from ray<1.2.0,>=1.0.0->modin[ray]>=0.8.1.1->swifter) (3.7.3)\r\n",
      "Requirement already satisfied: prometheus-client>=0.7.1 in /opt/conda/lib/python3.7/site-packages (from ray<1.2.0,>=1.0.0->modin[ray]>=0.8.1.1->swifter) (0.9.0)\r\n",
      "Requirement already satisfied: opencensus in /opt/conda/lib/python3.7/site-packages (from ray<1.2.0,>=1.0.0->modin[ray]>=0.8.1.1->swifter) (0.7.12)\r\n",
      "Requirement already satisfied: protobuf>=3.8.0 in /opt/conda/lib/python3.7/site-packages (from ray<1.2.0,>=1.0.0->modin[ray]>=0.8.1.1->swifter) (3.14.0)\r\n",
      "Requirement already satisfied: aioredis in /opt/conda/lib/python3.7/site-packages (from ray<1.2.0,>=1.0.0->modin[ray]>=0.8.1.1->swifter) (1.3.1)\r\n",
      "Requirement already satisfied: click>=7.0 in /opt/conda/lib/python3.7/site-packages (from ray<1.2.0,>=1.0.0->modin[ray]>=0.8.1.1->swifter) (7.1.2)\r\n",
      "Requirement already satisfied: colorama in /opt/conda/lib/python3.7/site-packages (from ray<1.2.0,>=1.0.0->modin[ray]>=0.8.1.1->swifter) (0.4.4)\r\n",
      "Requirement already satisfied: aiohttp-cors in /opt/conda/lib/python3.7/site-packages (from ray<1.2.0,>=1.0.0->modin[ray]>=0.8.1.1->swifter) (0.7.0)\r\n",
      "Requirement already satisfied: redis>=3.5.0 in /opt/conda/lib/python3.7/site-packages (from ray<1.2.0,>=1.0.0->modin[ray]>=0.8.1.1->swifter) (3.5.3)\r\n",
      "Requirement already satisfied: gpustat in /opt/conda/lib/python3.7/site-packages (from ray<1.2.0,>=1.0.0->modin[ray]>=0.8.1.1->swifter) (0.6.0)\r\n",
      "Requirement already satisfied: requests in /opt/conda/lib/python3.7/site-packages (from ray<1.2.0,>=1.0.0->modin[ray]>=0.8.1.1->swifter) (2.25.1)\r\n",
      "Requirement already satisfied: notebook>=4.4.1 in /opt/conda/lib/python3.7/site-packages (from widgetsnbextension~=3.5.0->ipywidgets>=7.0.0cloudpickle>=0.2.2->swifter) (5.5.0)\r\n",
      "Requirement already satisfied: terminado>=0.8.1 in /opt/conda/lib/python3.7/site-packages (from notebook>=4.4.1->widgetsnbextension~=3.5.0->ipywidgets>=7.0.0cloudpickle>=0.2.2->swifter) (0.9.2)\r\n",
      "Requirement already satisfied: Send2Trash in /opt/conda/lib/python3.7/site-packages (from notebook>=4.4.1->widgetsnbextension~=3.5.0->ipywidgets>=7.0.0cloudpickle>=0.2.2->swifter) (1.5.0)\r\n",
      "Requirement already satisfied: nbconvert in /opt/conda/lib/python3.7/site-packages (from notebook>=4.4.1->widgetsnbextension~=3.5.0->ipywidgets>=7.0.0cloudpickle>=0.2.2->swifter) (6.0.7)\r\n",
      "Requirement already satisfied: jinja2 in /opt/conda/lib/python3.7/site-packages (from notebook>=4.4.1->widgetsnbextension~=3.5.0->ipywidgets>=7.0.0cloudpickle>=0.2.2->swifter) (2.11.2)\r\n",
      "Requirement already satisfied: pyzmq>=17 in /opt/conda/lib/python3.7/site-packages (from notebook>=4.4.1->widgetsnbextension~=3.5.0->ipywidgets>=7.0.0cloudpickle>=0.2.2->swifter) (20.0.0)\r\n",
      "Requirement already satisfied: multidict<7.0,>=4.5 in /opt/conda/lib/python3.7/site-packages (from aiohttp->ray<1.2.0,>=1.0.0->modin[ray]>=0.8.1.1->swifter) (5.1.0)\r\n",
      "Requirement already satisfied: yarl<2.0,>=1.0 in /opt/conda/lib/python3.7/site-packages (from aiohttp->ray<1.2.0,>=1.0.0->modin[ray]>=0.8.1.1->swifter) (1.6.3)\r\n",
      "Requirement already satisfied: async-timeout<4.0,>=3.0 in /opt/conda/lib/python3.7/site-packages (from aiohttp->ray<1.2.0,>=1.0.0->modin[ray]>=0.8.1.1->swifter) (3.0.1)\r\n",
      "Requirement already satisfied: chardet<4.0,>=2.0 in /opt/conda/lib/python3.7/site-packages (from aiohttp->ray<1.2.0,>=1.0.0->modin[ray]>=0.8.1.1->swifter) (3.0.4)\r\n",
      "Requirement already satisfied: typing-extensions>=3.6.5 in /opt/conda/lib/python3.7/site-packages (from aiohttp->ray<1.2.0,>=1.0.0->modin[ray]>=0.8.1.1->swifter) (3.7.4.3)\r\n",
      "Requirement already satisfied: idna>=2.0 in /opt/conda/lib/python3.7/site-packages (from yarl<2.0,>=1.0->aiohttp->ray<1.2.0,>=1.0.0->modin[ray]>=0.8.1.1->swifter) (2.10)\r\n",
      "Requirement already satisfied: hiredis in /opt/conda/lib/python3.7/site-packages (from aioredis->ray<1.2.0,>=1.0.0->modin[ray]>=0.8.1.1->swifter) (1.1.0)\r\n",
      "Requirement already satisfied: nvidia-ml-py3>=7.352.0 in /opt/conda/lib/python3.7/site-packages (from gpustat->ray<1.2.0,>=1.0.0->modin[ray]>=0.8.1.1->swifter) (7.352.0)\r\n",
      "Requirement already satisfied: blessings>=1.6 in /opt/conda/lib/python3.7/site-packages (from gpustat->ray<1.2.0,>=1.0.0->modin[ray]>=0.8.1.1->swifter) (1.7)\r\n",
      "Requirement already satisfied: zipp>=0.5 in /opt/conda/lib/python3.7/site-packages (from importlib-metadata->jsonschema!=2.5.0,>=2.4->nbformat>=4.2.0->ipywidgets>=7.0.0cloudpickle>=0.2.2->swifter) (3.4.0)\r\n",
      "Requirement already satisfied: MarkupSafe>=0.23 in /opt/conda/lib/python3.7/site-packages (from jinja2->notebook>=4.4.1->widgetsnbextension~=3.5.0->ipywidgets>=7.0.0cloudpickle>=0.2.2->swifter) (1.1.1)\r\n",
      "Requirement already satisfied: jupyterlab-pygments in /opt/conda/lib/python3.7/site-packages (from nbconvert->notebook>=4.4.1->widgetsnbextension~=3.5.0->ipywidgets>=7.0.0cloudpickle>=0.2.2->swifter) (0.1.2)\r\n",
      "Requirement already satisfied: pandocfilters>=1.4.1 in /opt/conda/lib/python3.7/site-packages (from nbconvert->notebook>=4.4.1->widgetsnbextension~=3.5.0->ipywidgets>=7.0.0cloudpickle>=0.2.2->swifter) (1.4.2)\r\n",
      "Requirement already satisfied: testpath in /opt/conda/lib/python3.7/site-packages (from nbconvert->notebook>=4.4.1->widgetsnbextension~=3.5.0->ipywidgets>=7.0.0cloudpickle>=0.2.2->swifter) (0.4.4)\r\n",
      "Requirement already satisfied: entrypoints>=0.2.2 in /opt/conda/lib/python3.7/site-packages (from nbconvert->notebook>=4.4.1->widgetsnbextension~=3.5.0->ipywidgets>=7.0.0cloudpickle>=0.2.2->swifter) (0.3)\r\n",
      "Requirement already satisfied: nbclient<0.6.0,>=0.5.0 in /opt/conda/lib/python3.7/site-packages (from nbconvert->notebook>=4.4.1->widgetsnbextension~=3.5.0->ipywidgets>=7.0.0cloudpickle>=0.2.2->swifter) (0.5.1)\r\n",
      "Requirement already satisfied: defusedxml in /opt/conda/lib/python3.7/site-packages (from nbconvert->notebook>=4.4.1->widgetsnbextension~=3.5.0->ipywidgets>=7.0.0cloudpickle>=0.2.2->swifter) (0.6.0)\r\n",
      "Requirement already satisfied: mistune<2,>=0.8.1 in /opt/conda/lib/python3.7/site-packages (from nbconvert->notebook>=4.4.1->widgetsnbextension~=3.5.0->ipywidgets>=7.0.0cloudpickle>=0.2.2->swifter) (0.8.4)\r\n",
      "Requirement already satisfied: async-generator in /opt/conda/lib/python3.7/site-packages (from nbclient<0.6.0,>=0.5.0->nbconvert->notebook>=4.4.1->widgetsnbextension~=3.5.0->ipywidgets>=7.0.0cloudpickle>=0.2.2->swifter) (1.10)\r\n",
      "Requirement already satisfied: nest-asyncio in /opt/conda/lib/python3.7/site-packages (from nbclient<0.6.0,>=0.5.0->nbconvert->notebook>=4.4.1->widgetsnbextension~=3.5.0->ipywidgets>=7.0.0cloudpickle>=0.2.2->swifter) (1.4.3)\r\n",
      "Requirement already satisfied: opencensus-context==0.1.2 in /opt/conda/lib/python3.7/site-packages (from opencensus->ray<1.2.0,>=1.0.0->modin[ray]>=0.8.1.1->swifter) (0.1.2)\r\n",
      "Requirement already satisfied: google-api-core<2.0.0,>=1.0.0 in /opt/conda/lib/python3.7/site-packages (from opencensus->ray<1.2.0,>=1.0.0->modin[ray]>=0.8.1.1->swifter) (1.22.4)\r\n",
      "Requirement already satisfied: googleapis-common-protos<2.0dev,>=1.6.0 in /opt/conda/lib/python3.7/site-packages (from google-api-core<2.0.0,>=1.0.0->opencensus->ray<1.2.0,>=1.0.0->modin[ray]>=0.8.1.1->swifter) (1.52.0)\r\n",
      "Requirement already satisfied: google-auth<2.0dev,>=1.21.1 in /opt/conda/lib/python3.7/site-packages (from google-api-core<2.0.0,>=1.0.0->opencensus->ray<1.2.0,>=1.0.0->modin[ray]>=0.8.1.1->swifter) (1.24.0)\r\n",
      "Requirement already satisfied: cachetools<5.0,>=2.0.0 in /opt/conda/lib/python3.7/site-packages (from google-auth<2.0dev,>=1.21.1->google-api-core<2.0.0,>=1.0.0->opencensus->ray<1.2.0,>=1.0.0->modin[ray]>=0.8.1.1->swifter) (4.1.1)\r\n",
      "Requirement already satisfied: rsa<5,>=3.1.4 in /opt/conda/lib/python3.7/site-packages (from google-auth<2.0dev,>=1.21.1->google-api-core<2.0.0,>=1.0.0->opencensus->ray<1.2.0,>=1.0.0->modin[ray]>=0.8.1.1->swifter) (4.6)\r\n",
      "Requirement already satisfied: pyasn1-modules>=0.2.1 in /opt/conda/lib/python3.7/site-packages (from google-auth<2.0dev,>=1.21.1->google-api-core<2.0.0,>=1.0.0->opencensus->ray<1.2.0,>=1.0.0->modin[ray]>=0.8.1.1->swifter) (0.2.7)\r\n",
      "Requirement already satisfied: pyasn1<0.5.0,>=0.4.6 in /opt/conda/lib/python3.7/site-packages (from pyasn1-modules>=0.2.1->google-auth<2.0dev,>=1.21.1->google-api-core<2.0.0,>=1.0.0->opencensus->ray<1.2.0,>=1.0.0->modin[ray]>=0.8.1.1->swifter) (0.4.8)\r\n",
      "Requirement already satisfied: urllib3<1.27,>=1.21.1 in /opt/conda/lib/python3.7/site-packages (from requests->ray<1.2.0,>=1.0.0->modin[ray]>=0.8.1.1->swifter) (1.26.2)\r\n",
      "Requirement already satisfied: certifi>=2017.4.17 in /opt/conda/lib/python3.7/site-packages (from requests->ray<1.2.0,>=1.0.0->modin[ray]>=0.8.1.1->swifter) (2020.12.5)\r\n",
      "Requirement already satisfied: pyparsing>=2.0.2 in /opt/conda/lib/python3.7/site-packages (from packaging->bleach>=3.1.1->swifter) (2.4.7)\r\n",
      "Building wheels for collected packages: swifter\r\n",
      "  Building wheel for swifter (setup.py) ... \u001b[?25l-\b \bdone\r\n",
      "\u001b[?25h  Created wheel for swifter: filename=swifter-1.0.7-py3-none-any.whl size=13976 sha256=3331ac0c5810662898f3546828309d0ce8c95e2ccd018151ab756e16e5000b49\r\n",
      "  Stored in directory: /root/.cache/pip/wheels/49/44/5b/2c3fcb044734cb9969adbeeab8de419e571fb3d9d0b9f62dae\r\n",
      "Successfully built swifter\r\n",
      "Installing collected packages: pandas, pyarrow, modin, swifter\r\n",
      "  Attempting uninstall: pandas\r\n",
      "    Found existing installation: pandas 1.1.5\r\n",
      "    Uninstalling pandas-1.1.5:\r\n",
      "      Successfully uninstalled pandas-1.1.5\r\n",
      "  Attempting uninstall: pyarrow\r\n",
      "    Found existing installation: pyarrow 1.0.1\r\n",
      "    Uninstalling pyarrow-1.0.1:\r\n",
      "      Successfully uninstalled pyarrow-1.0.1\r\n",
      "Successfully installed modin-0.9.1 pandas-1.2.3 pyarrow-1.0.0 swifter-1.0.7\r\n",
      "\u001b[33mWARNING: You are using pip version 21.0; however, version 21.1.2 is available.\r\n",
      "You should consider upgrading via the '/opt/conda/bin/python3.7 -m pip install --upgrade pip' command.\u001b[0m\r\n",
      "Collecting pandarallel\r\n",
      "  Downloading pandarallel-1.5.2.tar.gz (16 kB)\r\n",
      "Requirement already satisfied: dill in /opt/conda/lib/python3.7/site-packages (from pandarallel) (0.3.3)\r\n",
      "Building wheels for collected packages: pandarallel\r\n",
      "  Building wheel for pandarallel (setup.py) ... \u001b[?25l-\b \bdone\r\n",
      "\u001b[?25h  Created wheel for pandarallel: filename=pandarallel-1.5.2-py3-none-any.whl size=18384 sha256=c5bff8f192b52cf9bdc1d73111621ab521c60a74813891bd29240bdd78a74d13\r\n",
      "  Stored in directory: /root/.cache/pip/wheels/b5/6d/51/9ece2eaf007ea3f7fb0ce053c5773b2eb0d308887da3af12c1\r\n",
      "Successfully built pandarallel\r\n",
      "Installing collected packages: pandarallel\r\n",
      "Successfully installed pandarallel-1.5.2\r\n",
      "\u001b[33mWARNING: You are using pip version 21.0; however, version 21.1.2 is available.\r\n",
      "You should consider upgrading via the '/opt/conda/bin/python3.7 -m pip install --upgrade pip' command.\u001b[0m\r\n",
      "Collecting pyspark\r\n",
      "  Downloading pyspark-3.1.1.tar.gz (212.3 MB)\r\n",
      "\u001b[K     |████████████████████████████████| 212.3 MB 15 kB/s \r\n",
      "\u001b[?25hCollecting py4j==0.10.9\r\n",
      "  Downloading py4j-0.10.9-py2.py3-none-any.whl (198 kB)\r\n",
      "\u001b[K     |████████████████████████████████| 198 kB 41.1 MB/s \r\n",
      "\u001b[?25hBuilding wheels for collected packages: pyspark\r\n",
      "  Building wheel for pyspark (setup.py) ... \u001b[?25l-\b \b\\\b \b|\b \b/\b \b-\b \b\\\b \b|\b \b/\b \b-\b \b\\\b \b|\b \b/\b \b-\b \b\\\b \b|\b \b/\b \b-\b \b\\\b \b|\b \b/\b \b-\b \b\\\b \b|\b \b/\b \b-\b \b\\\b \b|\b \b/\b \b-\b \b\\\b \b|\b \b/\b \b-\b \b\\\b \b|\b \b/\b \b-\b \b\\\b \b|\b \b/\b \b-\b \b\\\b \b|\b \b/\b \b-\b \b\\\b \b|\b \b/\b \b-\b \b\\\b \b|\b \bdone\r\n",
      "\u001b[?25h  Created wheel for pyspark: filename=pyspark-3.1.1-py2.py3-none-any.whl size=212767604 sha256=c5068dbda51b0bdf0289e039dbe657d5f8eff886705f30e0aa9c5f140cf743a1\r\n",
      "  Stored in directory: /root/.cache/pip/wheels/43/47/42/bc413c760cf9d3f7b46ab7cd6590e8c47ebfd19a7386cd4a57\r\n",
      "Successfully built pyspark\r\n",
      "Installing collected packages: py4j, pyspark\r\n",
      "Successfully installed py4j-0.10.9 pyspark-3.1.1\r\n",
      "\u001b[33mWARNING: You are using pip version 21.0; however, version 21.1.2 is available.\r\n",
      "You should consider upgrading via the '/opt/conda/bin/python3.7 -m pip install --upgrade pip' command.\u001b[0m\r\n",
      "Requirement already satisfied: dask in /opt/conda/lib/python3.7/site-packages (2021.1.1)\r\n",
      "Requirement already satisfied: pyyaml in /opt/conda/lib/python3.7/site-packages (from dask) (5.3.1)\r\n",
      "\u001b[33mWARNING: You are using pip version 21.0; however, version 21.1.2 is available.\r\n",
      "You should consider upgrading via the '/opt/conda/bin/python3.7 -m pip install --upgrade pip' command.\u001b[0m\r\n"
     ]
    }
   ],
   "source": [
    "!pip install SpellChecker\n",
    "!pip install swifter\n",
    "!pip install pandarallel\n",
    "!pip install pyspark\n",
    "!pip install dask"
   ]
  },
  {
   "cell_type": "code",
   "execution_count": 2,
   "metadata": {
    "_cell_guid": "b1076dfc-b9ad-4769-8c92-a6c4dae69d19",
    "_uuid": "8f2839f25d086af736a60e9eeb907d3b93b6e0e5",
    "execution": {
     "iopub.execute_input": "2021-05-26T19:03:01.740905Z",
     "iopub.status.busy": "2021-05-26T19:03:01.740081Z",
     "iopub.status.idle": "2021-05-26T19:03:05.661929Z",
     "shell.execute_reply": "2021-05-26T19:03:05.662509Z",
     "shell.execute_reply.started": "2021-05-25T15:27:46.726879Z"
    },
    "papermill": {
     "duration": 4.073284,
     "end_time": "2021-05-26T19:03:05.662721",
     "exception": false,
     "start_time": "2021-05-26T19:03:01.589437",
     "status": "completed"
    },
    "tags": []
   },
   "outputs": [
    {
     "name": "stdout",
     "output_type": "stream",
     "text": [
      "/kaggle/input/whatsapp-group-chat/whatsapp_group_chat.txt\n"
     ]
    }
   ],
   "source": [
    "\n",
    "import numpy as np \n",
    "import pandas as pd \n",
    "import nltk\n",
    "from nltk.stem.isri import ISRIStemmer\n",
    "import re\n",
    "import time\n",
    "import multiprocessing as mp\n",
    "from multiprocessing import Pool\n",
    "from multiprocessing import cpu_count\n",
    "from dask import dataframe as dd\n",
    "from dask.multiprocessing import get\n",
    "import multiprocessing\n",
    "import swifter\n",
    "import threading\n",
    "\n",
    "import dask.dataframe as dd\n",
    "import os\n",
    "for dirname, _, filenames in os.walk('/kaggle/input'):\n",
    "    for filename in filenames:\n",
    "        print(os.path.join(dirname, filename))\n"
   ]
  },
  {
   "cell_type": "code",
   "execution_count": 3,
   "metadata": {
    "execution": {
     "iopub.execute_input": "2021-05-26T19:03:05.982980Z",
     "iopub.status.busy": "2021-05-26T19:03:05.980800Z",
     "iopub.status.idle": "2021-05-26T19:03:05.983672Z",
     "shell.execute_reply": "2021-05-26T19:03:05.984077Z",
     "shell.execute_reply.started": "2021-05-25T15:27:50.860951Z"
    },
    "papermill": {
     "duration": 0.171885,
     "end_time": "2021-05-26T19:03:05.984244",
     "exception": false,
     "start_time": "2021-05-26T19:03:05.812359",
     "status": "completed"
    },
    "tags": []
   },
   "outputs": [],
   "source": [
    "#######All the Function used to read the data, clean and pre-process it\n",
    "st = ISRIStemmer() #Arabic stemmer\n",
    "directory = \"../input/whatsapp-group-chat/whatsapp_group_chat.txt\"\n",
    "\n",
    "#Reading Data\n",
    "def read_data(file_directory):\n",
    "    f = open(file_directory, \"r\")\n",
    "    list_of_lists = []  \n",
    "    for line in f:\n",
    "      stripped_line = line.strip()\n",
    "      line_list = stripped_line.split(\"-\")\n",
    "      list_of_lists.append(line_list)   \n",
    "    list_of_lists.pop(0)\n",
    "    f.close() \n",
    "    return list_of_lists\n",
    "\n",
    "# turning it into a DataFrame\n",
    "def pre(listoflists):\n",
    "    df = pd.DataFrame(listoflists)\n",
    "    df = df[[0, 1]]\n",
    "    df = df.rename(columns={0: \"Date\", 1: \"Chat\"}, errors=\"raise\")\n",
    "    df.Chat = df.Chat.str.replace(\"[<@*&?].*[>@*&?]\", \"\")\n",
    "    df.Chat = df.Chat.str.replace(r'^.*?:', '') \n",
    "    df = df[df['Chat'] != ' '] #after the step above some cells ended having only void space\n",
    "    #df.Chat = df.Chat.str.replace('5', 'kh')\n",
    "    #df.Chat = df.Chat.str.replace('2', 'q')\n",
    "    #df.Chat = df.Chat.str.replace('3', 'a') # I found that google translates 3 correctly to ع\n",
    "    #df.Chat = df.Chat.str.replace('7', 'h')\n",
    "    df.dropna(how = 'all', inplace=True) \n",
    "    return df\n",
    "\n",
    "###Pre-Processing 101\n",
    "#Removing Special Character\n",
    "def remove_special(s):\n",
    "    x = re.sub(\"[^0-9a-zA-Z]\"r\" \", s)\n",
    "    x = re.sub(r'^\\s*$', np.nan, s)\n",
    "    return x\n",
    "\n",
    "#processing 2-gram letters\n",
    "# this function should be updated because it  takes only the first letter and change it to the assigned value\n",
    "def duos(c):\n",
    "    newstr = c\n",
    "    sh = (\"sh\")\n",
    "    kh = (\"kh\")\n",
    "    for x in c:\n",
    "        if x in sh:\n",
    "            newstr = newstr.replace(x,\"$\")\n",
    "        if x in kh:\n",
    "            newstr = newstr.replace(x,\"5\")\n",
    "    return newstr\n",
    "\n",
    "#Removing Vowels\n",
    "def anti_vowel(c):\n",
    "    newstr = c\n",
    "    vowels = ('ا', 'ي', 'و')    \n",
    "    for x in c:\n",
    "        if x in vowels:\n",
    "            newstr = newstr.replace(x,\"\")\n",
    "    return newstr\n",
    "\n",
    "#Removing Diacritic\n",
    "def deNoise(text):\n",
    "    text = str(text)\n",
    "    noise = re.compile(\"\"\" ّ    | # Tashdid\n",
    "                             َ    | # Fatha\n",
    "                             ً    | # Tanwin Fath\n",
    "                             ُ    | # Damma\n",
    "                             ٌ    | # Tanwin Damm\n",
    "                             ِ    | # Kasra\n",
    "                             ٍ    | # Tanwin Kasr\n",
    "                             ْ    | # Sukun\n",
    "                             ـ     # Tatwil/Kashida\n",
    "                         \"\"\", re.VERBOSE)\n",
    "    text = re.sub(noise, '', str(text))\n",
    "    return text\n",
    "\n",
    "#Letters Conversion\n",
    "def transString(string, reverse=1):\n",
    "    buck2uni = {\"'\":\"ء\", \"|\":\"آ\", \"?\":\"أ\", \"&\":\"ؤ\", \"<\":\"إ\", \"}\":\"ئ\", \"A\":\"ا\", \"b\":\"ب\",\n",
    "                \"p\":\"ة\", \"t\":\"ت\", \"v\":\"ث\", \"g\":\"ج\", \"H\":\"ح\", \"x\":\"خ\", \"d\":\"د\", \"*\":\"ذ\",\n",
    "                \"r\":\"ر\", \"z\":\"ز\", \"s\":\"س\", \"$\":\"ش\", \"S\":\"ص\", \"D\":\"ض\", \"T\":\"ط\", \"Z\":\"ظ\",\n",
    "                \"E\":\"ع\", \"G\":\"غ\", \"_\":\"ـ\", \"f\":\"ف\", \"q\":\"ق\", \"k\":\"ك\", \"l\":\"ل\", \"m\":\"م\", \"n\":\"ن\",\n",
    "                \"h\":\"ه\", \"w\":\"و\", \"Y\":\"ى\", \"y\":\"ي\", \"F\":\"ً\", \"N\":\"ٌ\", \"K\":\"ٍ\", \"~\":\"ّ\", \"o\":\"ْ\", \"u\":\"ُ\",\n",
    "                \"a\":\"َا\", \"i\":\"ِ\",\n",
    "                \"e\":\"ا\",\n",
    "               \"2\":\"ق\",\n",
    "               \"3\":\"ع\",\n",
    "                \"4\":\"ش\",\n",
    "               \"5\":\"خ\",\n",
    "               \"7\":\"ح\",\n",
    "               \"c\":\"\"}    \n",
    "    for k, v in buck2uni.items():\n",
    "        if not reverse:\n",
    "            string = string.replace(v, k)\n",
    "        else:\n",
    "            string = string.replace(k, v)\n",
    "    return string\n"
   ]
  },
  {
   "cell_type": "markdown",
   "metadata": {
    "papermill": {
     "duration": 0.146927,
     "end_time": "2021-05-26T19:03:06.278234",
     "exception": false,
     "start_time": "2021-05-26T19:03:06.131307",
     "status": "completed"
    },
    "tags": []
   },
   "source": [
    "# Using only apply function"
   ]
  },
  {
   "cell_type": "code",
   "execution_count": 4,
   "metadata": {
    "execution": {
     "iopub.execute_input": "2021-05-26T19:03:06.579084Z",
     "iopub.status.busy": "2021-05-26T19:03:06.578414Z",
     "iopub.status.idle": "2021-05-26T19:03:30.010087Z",
     "shell.execute_reply": "2021-05-26T19:03:30.009611Z"
    },
    "papermill": {
     "duration": 23.584422,
     "end_time": "2021-05-26T19:03:30.010242",
     "exception": false,
     "start_time": "2021-05-26T19:03:06.425820",
     "status": "completed"
    },
    "tags": []
   },
   "outputs": [],
   "source": [
    "#Read Data and insert into DF\n",
    "whatsapp_chat = pre(read_data(directory))\n",
    "whatsapp_chat_20 = whatsapp_chat[:20]\n",
    "#whatsapp_chat_20"
   ]
  },
  {
   "cell_type": "code",
   "execution_count": 5,
   "metadata": {
    "execution": {
     "iopub.execute_input": "2021-05-26T19:03:30.538573Z",
     "iopub.status.busy": "2021-05-26T19:03:30.536934Z",
     "iopub.status.idle": "2021-05-26T19:05:09.014320Z",
     "shell.execute_reply": "2021-05-26T19:05:09.015062Z",
     "shell.execute_reply.started": "2021-05-25T15:32:53.84548Z"
    },
    "papermill": {
     "duration": 98.86188,
     "end_time": "2021-05-26T19:05:09.015318",
     "exception": false,
     "start_time": "2021-05-26T19:03:30.153438",
     "status": "completed"
    },
    "tags": []
   },
   "outputs": [
    {
     "name": "stdout",
     "output_type": "stream",
     "text": [
      "0             خمل رتد جرة \"برث عل ðÿ“مخ\"\n",
      "1                                   ر ددد\n",
      "2                    لل مزج جب نزل بدر قل\n",
      "3      منت ل بتبرد تزخ شش مخنشش جلخ ل مزق\n",
      "8                        ðÿ˜‚ðÿ˜‚ðÿ˜‚ðÿ˜‚\n",
      "9                                 نزلن مت\n",
      "10                ن حتم شنجب خل نتلع عل ش\n",
      "11                      خ ن شخل نزل عل تل\n",
      "12                                      خ\n",
      "13                           ن شت مل نشرد\n",
      "Name: Chat, dtype: object\n",
      "The runtime without multiprocess is 98.56512784957886 seconds\n"
     ]
    }
   ],
   "source": [
    "start_time = time.time()\n",
    "whatsapp_chat['Chat'] = whatsapp_chat['Chat'].str.lower()\n",
    "whatsapp_chat = whatsapp_chat.dropna()\n",
    "whatsapp_chat['Chat'] = whatsapp_chat['Chat'].apply(duos)\n",
    "whatsapp_chat['Chat'] = whatsapp_chat['Chat'].apply(transString)\n",
    "whatsapp_chat['Chat'] = whatsapp_chat['Chat'].apply(deNoise)\n",
    "whatsapp_chat['Chat'] = whatsapp_chat['Chat'].apply(st.stem)\n",
    "whatsapp_chat['Chat'] = whatsapp_chat['Chat'].apply(anti_vowel)\n",
    "print(whatsapp_chat['Chat'][:10])\n",
    "end_time = time.time()\n",
    "time_elapsed = end_time-start_time\n",
    "print('The runtime without multiprocess is %s seconds' %(time_elapsed))"
   ]
  },
  {
   "cell_type": "markdown",
   "metadata": {
    "papermill": {
     "duration": 0.140546,
     "end_time": "2021-05-26T19:05:09.297941",
     "exception": false,
     "start_time": "2021-05-26T19:05:09.157395",
     "status": "completed"
    },
    "tags": []
   },
   "source": [
    "# 0.Pandas with Lambda function"
   ]
  },
  {
   "cell_type": "code",
   "execution_count": 6,
   "metadata": {
    "execution": {
     "iopub.execute_input": "2021-05-26T19:05:09.586631Z",
     "iopub.status.busy": "2021-05-26T19:05:09.586054Z",
     "iopub.status.idle": "2021-05-26T19:05:33.199275Z",
     "shell.execute_reply": "2021-05-26T19:05:33.198757Z",
     "shell.execute_reply.started": "2021-05-25T15:27:50.882789Z"
    },
    "papermill": {
     "duration": 23.759498,
     "end_time": "2021-05-26T19:05:33.199423",
     "exception": false,
     "start_time": "2021-05-26T19:05:09.439925",
     "status": "completed"
    },
    "tags": []
   },
   "outputs": [],
   "source": [
    "#Read Data and insert into DF\n",
    "whatsapp_chat = pre(read_data(directory))\n",
    "whatsapp_chat_20 = whatsapp_chat[:20]\n",
    "#whatsapp_chat_20"
   ]
  },
  {
   "cell_type": "code",
   "execution_count": 7,
   "metadata": {
    "execution": {
     "iopub.execute_input": "2021-05-26T19:05:33.501905Z",
     "iopub.status.busy": "2021-05-26T19:05:33.499900Z",
     "iopub.status.idle": "2021-05-26T19:05:33.502489Z",
     "shell.execute_reply": "2021-05-26T19:05:33.502901Z",
     "shell.execute_reply.started": "2021-05-25T15:34:47.672754Z"
    },
    "papermill": {
     "duration": 0.150716,
     "end_time": "2021-05-26T19:05:33.503054",
     "exception": false,
     "start_time": "2021-05-26T19:05:33.352338",
     "status": "completed"
    },
    "tags": []
   },
   "outputs": [],
   "source": [
    "def all_in_one(df):\n",
    "    df['Chat'] = df['Chat'].dropna().apply(lambda x:anti_vowel(st.stem(deNoise(transString(duos(x).lower(), reverse = 1)))))\n",
    "    return df#.dropna(how = 'any', axis = 0, inplace = True)\n"
   ]
  },
  {
   "cell_type": "code",
   "execution_count": 8,
   "metadata": {
    "execution": {
     "iopub.execute_input": "2021-05-26T19:05:34.035295Z",
     "iopub.status.busy": "2021-05-26T19:05:34.033777Z",
     "iopub.status.idle": "2021-05-26T19:07:14.193341Z",
     "shell.execute_reply": "2021-05-26T19:07:14.193973Z",
     "shell.execute_reply.started": "2021-05-25T15:34:47.853357Z"
    },
    "papermill": {
     "duration": 100.549093,
     "end_time": "2021-05-26T19:07:14.194170",
     "exception": false,
     "start_time": "2021-05-26T19:05:33.645077",
     "status": "completed"
    },
    "tags": []
   },
   "outputs": [
    {
     "name": "stdout",
     "output_type": "stream",
     "text": [
      "                  Date                                 Chat\n",
      "0   12/26/18, 9:57 AM           كمل رتد جرة \"برث عل ðÿ“مخ\"\n",
      "1   12/26/18, 9:57 AM                                 ر ددد\n",
      "2    10/2/20, 4:15 AM                  لل مزج جب نزل بدر قل\n",
      "3    10/2/20, 4:24 AM    منت ل بتبرد تزخ شش مخنشش جلخ ل مزق\n",
      "8    10/2/20, 7:21 AM                      ðÿ˜‚ðÿ˜‚ðÿ˜‚ðÿ˜‚\n",
      "9    10/2/20, 8:56 AM                               نزلن مت\n",
      "10   10/2/20, 8:56 AM               ن حتم شنجب خل نتلع عل ش\n",
      "11   10/2/20, 8:57 AM                     خ ن شخل نزل عل تل\n",
      "12   10/2/20, 8:57 AM                                     خ\n",
      "13   10/2/20, 9:06 AM                          ن شت مل نشرد\n",
      "The runtime without multiprocess is 100.25171136856079 seconds\n"
     ]
    }
   ],
   "source": [
    "start_time = time.time()\n",
    "Chat = all_in_one(whatsapp_chat)\n",
    "print(Chat[:10])\n",
    "end_time = time.time()\n",
    "time_elapsed = end_time-start_time\n",
    "print('The runtime without multiprocess is %s seconds' %(time_elapsed))"
   ]
  },
  {
   "cell_type": "markdown",
   "metadata": {
    "papermill": {
     "duration": 0.141932,
     "end_time": "2021-05-26T19:07:14.479172",
     "exception": false,
     "start_time": "2021-05-26T19:07:14.337240",
     "status": "completed"
    },
    "tags": []
   },
   "source": [
    "# 1.Multiprocessing "
   ]
  },
  {
   "cell_type": "code",
   "execution_count": 9,
   "metadata": {
    "execution": {
     "iopub.execute_input": "2021-05-26T19:07:14.769874Z",
     "iopub.status.busy": "2021-05-26T19:07:14.769341Z",
     "iopub.status.idle": "2021-05-26T19:07:37.270330Z",
     "shell.execute_reply": "2021-05-26T19:07:37.269411Z"
    },
    "papermill": {
     "duration": 22.648362,
     "end_time": "2021-05-26T19:07:37.270475",
     "exception": false,
     "start_time": "2021-05-26T19:07:14.622113",
     "status": "completed"
    },
    "tags": []
   },
   "outputs": [],
   "source": [
    "whatsapp_chat = pre(read_data(directory))\n",
    "whatsapp_chat_20 = whatsapp_chat[:20]"
   ]
  },
  {
   "cell_type": "code",
   "execution_count": 10,
   "metadata": {
    "execution": {
     "iopub.execute_input": "2021-05-26T19:07:37.561959Z",
     "iopub.status.busy": "2021-05-26T19:07:37.560306Z",
     "iopub.status.idle": "2021-05-26T19:07:37.562569Z",
     "shell.execute_reply": "2021-05-26T19:07:37.562986Z"
    },
    "papermill": {
     "duration": 0.150463,
     "end_time": "2021-05-26T19:07:37.563147",
     "exception": false,
     "start_time": "2021-05-26T19:07:37.412684",
     "status": "completed"
    },
    "tags": []
   },
   "outputs": [],
   "source": [
    "cores = cpu_count() #Gets number of CPU cores on your machine\n",
    "partitions = cores #Define number of partitions\n",
    "\n",
    "def parallelize(df, func):\n",
    "    df_split = np.array_split(df, partitions)\n",
    "    pool = Pool(cores)\n",
    "    df = pd.concat(pool.map(func, df_split))\n",
    "    pool.close()\n",
    "    pool.join()\n",
    "    return df\n"
   ]
  },
  {
   "cell_type": "code",
   "execution_count": 11,
   "metadata": {
    "execution": {
     "iopub.execute_input": "2021-05-26T19:07:37.853138Z",
     "iopub.status.busy": "2021-05-26T19:07:37.851654Z",
     "iopub.status.idle": "2021-05-26T19:09:14.972087Z",
     "shell.execute_reply": "2021-05-26T19:09:14.972665Z"
    },
    "papermill": {
     "duration": 97.268975,
     "end_time": "2021-05-26T19:09:14.972829",
     "exception": false,
     "start_time": "2021-05-26T19:07:37.703854",
     "status": "completed"
    },
    "tags": []
   },
   "outputs": [
    {
     "name": "stdout",
     "output_type": "stream",
     "text": [
      "                  Date                                 Chat\n",
      "0   12/26/18, 9:57 AM           كمل رتد جرة \"برث عل ðÿ“مخ\"\n",
      "1   12/26/18, 9:57 AM                                 ر ددد\n",
      "2    10/2/20, 4:15 AM                  لل مزج جب نزل بدر قل\n",
      "3    10/2/20, 4:24 AM    منت ل بتبرد تزخ شش مخنشش جلخ ل مزق\n",
      "8    10/2/20, 7:21 AM                      ðÿ˜‚ðÿ˜‚ðÿ˜‚ðÿ˜‚\n",
      "9    10/2/20, 8:56 AM                               نزلن مت\n",
      "10   10/2/20, 8:56 AM               ن حتم شنجب خل نتلع عل ش\n",
      "11   10/2/20, 8:57 AM                     خ ن شخل نزل عل تل\n",
      "12   10/2/20, 8:57 AM                                     خ\n",
      "13   10/2/20, 9:06 AM                          ن شت مل نشرد\n",
      "The runtime with multiprocess is 96.9687294960022 seconds\n"
     ]
    }
   ],
   "source": [
    "start_time = time.time()\n",
    "Chat = parallelize(whatsapp_chat, all_in_one)\n",
    "end_time = time.time()\n",
    "print(Chat[:10])\n",
    "time_elapsed = end_time-start_time\n",
    "print('The runtime with multiprocess is %s seconds' %(time_elapsed))"
   ]
  },
  {
   "cell_type": "markdown",
   "metadata": {
    "papermill": {
     "duration": 0.14304,
     "end_time": "2021-05-26T19:09:15.259858",
     "exception": false,
     "start_time": "2021-05-26T19:09:15.116818",
     "status": "completed"
    },
    "tags": []
   },
   "source": [
    "# 2.Pandarallel"
   ]
  },
  {
   "cell_type": "code",
   "execution_count": 12,
   "metadata": {
    "execution": {
     "iopub.execute_input": "2021-05-26T19:09:15.553178Z",
     "iopub.status.busy": "2021-05-26T19:09:15.552627Z",
     "iopub.status.idle": "2021-05-26T19:09:39.533922Z",
     "shell.execute_reply": "2021-05-26T19:09:39.532821Z"
    },
    "papermill": {
     "duration": 24.130643,
     "end_time": "2021-05-26T19:09:39.534065",
     "exception": false,
     "start_time": "2021-05-26T19:09:15.403422",
     "status": "completed"
    },
    "tags": []
   },
   "outputs": [],
   "source": [
    "whatsapp_chat = pre(read_data(directory))\n",
    "whatsapp_chat_20 = whatsapp_chat[:20]"
   ]
  },
  {
   "cell_type": "code",
   "execution_count": 13,
   "metadata": {
    "execution": {
     "iopub.execute_input": "2021-05-26T19:09:39.828296Z",
     "iopub.status.busy": "2021-05-26T19:09:39.827429Z",
     "iopub.status.idle": "2021-05-26T19:11:41.148960Z",
     "shell.execute_reply": "2021-05-26T19:11:41.149412Z"
    },
    "papermill": {
     "duration": 121.473781,
     "end_time": "2021-05-26T19:11:41.149575",
     "exception": false,
     "start_time": "2021-05-26T19:09:39.675794",
     "status": "completed"
    },
    "tags": []
   },
   "outputs": [
    {
     "name": "stdout",
     "output_type": "stream",
     "text": [
      "INFO: Pandarallel will run on 4 workers.\n",
      "INFO: Pandarallel will use Memory file system to transfer data between the main process and workers.\n",
      "INFO: Pandarallel will run on 4 workers.\n",
      "INFO: Pandarallel will use Memory file system to transfer data between the main process and workers.\n",
      "INFO: Pandarallel will run on 4 workers.\n",
      "INFO: Pandarallel will use Memory file system to transfer data between the main process and workers.\n",
      "INFO: Pandarallel will run on 4 workers.\n",
      "INFO: Pandarallel will use Memory file system to transfer data between the main process and workers.\n",
      "INFO: Pandarallel will run on 4 workers.\n",
      "INFO: Pandarallel will use Memory file system to transfer data between the main process and workers.\n",
      "                  Date                                 Chat\n",
      "0   12/26/18, 9:57 AM           خمل رتد جرة \"برث عل ðÿ“مخ\"\n",
      "1   12/26/18, 9:57 AM                                 ر ددد\n",
      "2    10/2/20, 4:15 AM                  لل مزج جب نزل بدر قل\n",
      "3    10/2/20, 4:24 AM    منت ل بتبرد تزخ شش مخنشش جلخ ل مزق\n",
      "8    10/2/20, 7:21 AM                      ðÿ˜‚ðÿ˜‚ðÿ˜‚ðÿ˜‚\n",
      "9    10/2/20, 8:56 AM                               نزلن مت\n",
      "10   10/2/20, 8:56 AM               ن حتم شنجب خل نتلع عل ش\n",
      "11   10/2/20, 8:57 AM                     خ ن شخل نزل عل تل\n",
      "12   10/2/20, 8:57 AM                                     خ\n",
      "13   10/2/20, 9:06 AM                          ن شت مل نشرد\n",
      "The runtime with multiprocess is 121.31397414207458 seconds\n"
     ]
    }
   ],
   "source": [
    "start_time = time.time()\n",
    "from pandarallel import pandarallel\n",
    "whatsapp_chat['Chat'] = whatsapp_chat['Chat'].str.lower()\n",
    "whatsapp_chat = whatsapp_chat.dropna()\n",
    "pandarallel.initialize(nb_workers=4)\n",
    "whatsapp_chat['Chat'] = whatsapp_chat['Chat'].parallel_apply(duos)\n",
    "pandarallel.initialize(nb_workers=4)\n",
    "whatsapp_chat['Chat'] = whatsapp_chat['Chat'].parallel_apply(transString)\n",
    "pandarallel.initialize(nb_workers=4)\n",
    "whatsapp_chat['Chat'] = whatsapp_chat['Chat'].parallel_apply(deNoise)\n",
    "pandarallel.initialize(nb_workers=4)\n",
    "whatsapp_chat['Chat'] = whatsapp_chat['Chat'].parallel_apply(st.stem)\n",
    "pandarallel.initialize(nb_workers=4)\n",
    "whatsapp_chat['Chat'] = whatsapp_chat['Chat'].parallel_apply(anti_vowel)\n",
    "end_time = time.time()\n",
    "print(whatsapp_chat[:10])\n",
    "time_elapsed = end_time-start_time\n",
    "print('The runtime with multiprocess is %s seconds' %(time_elapsed))"
   ]
  },
  {
   "cell_type": "markdown",
   "metadata": {
    "papermill": {
     "duration": 0.239013,
     "end_time": "2021-05-26T19:11:41.578875",
     "exception": false,
     "start_time": "2021-05-26T19:11:41.339862",
     "status": "completed"
    },
    "tags": []
   },
   "source": [
    "# 3.Multiprocess and Pool"
   ]
  },
  {
   "cell_type": "code",
   "execution_count": 14,
   "metadata": {
    "execution": {
     "iopub.execute_input": "2021-05-26T19:11:41.944290Z",
     "iopub.status.busy": "2021-05-26T19:11:41.943716Z",
     "iopub.status.idle": "2021-05-26T19:12:06.638216Z",
     "shell.execute_reply": "2021-05-26T19:12:06.637128Z",
     "shell.execute_reply.started": "2021-05-25T15:42:36.491662Z"
    },
    "papermill": {
     "duration": 24.847154,
     "end_time": "2021-05-26T19:12:06.638366",
     "exception": false,
     "start_time": "2021-05-26T19:11:41.791212",
     "status": "completed"
    },
    "tags": []
   },
   "outputs": [],
   "source": [
    "whatsapp_chat = pre(read_data(directory))\n",
    "whatsapp_chat_20 = whatsapp_chat[:20]"
   ]
  },
  {
   "cell_type": "code",
   "execution_count": 15,
   "metadata": {
    "execution": {
     "iopub.execute_input": "2021-05-26T19:12:06.933095Z",
     "iopub.status.busy": "2021-05-26T19:12:06.932240Z",
     "iopub.status.idle": "2021-05-26T19:12:06.935096Z",
     "shell.execute_reply": "2021-05-26T19:12:06.934676Z",
     "shell.execute_reply.started": "2021-05-25T15:42:57.988809Z"
    },
    "papermill": {
     "duration": 0.152552,
     "end_time": "2021-05-26T19:12:06.935232",
     "exception": false,
     "start_time": "2021-05-26T19:12:06.782680",
     "status": "completed"
    },
    "tags": []
   },
   "outputs": [],
   "source": [
    "num_partitions = 10 #number of partitions to split dataframe\n",
    "num_cores = 6 #number of cores on your machine\n",
    "\n",
    "def parallelize_dataframe(df, func):\n",
    "    df_split = np.array_split(df, num_partitions)\n",
    "    pool = Pool(num_cores)\n",
    "    df = pd.concat(pool.map(func, df_split))\n",
    "    pool.close()\n",
    "    pool.join()\n",
    "    return df"
   ]
  },
  {
   "cell_type": "code",
   "execution_count": 16,
   "metadata": {
    "execution": {
     "iopub.execute_input": "2021-05-26T19:12:07.231072Z",
     "iopub.status.busy": "2021-05-26T19:12:07.230162Z",
     "iopub.status.idle": "2021-05-26T19:13:44.160282Z",
     "shell.execute_reply": "2021-05-26T19:13:44.161229Z",
     "shell.execute_reply.started": "2021-05-25T15:46:08.343014Z"
    },
    "papermill": {
     "duration": 97.082394,
     "end_time": "2021-05-26T19:13:44.161442",
     "exception": false,
     "start_time": "2021-05-26T19:12:07.079048",
     "status": "completed"
    },
    "tags": []
   },
   "outputs": [
    {
     "name": "stdout",
     "output_type": "stream",
     "text": [
      "                  Date                                 Chat\n",
      "0   12/26/18, 9:57 AM           كمل رتد جرة \"برث عل ðÿ“مخ\"\n",
      "1   12/26/18, 9:57 AM                                 ر ددد\n",
      "2    10/2/20, 4:15 AM                  لل مزج جب نزل بدر قل\n",
      "3    10/2/20, 4:24 AM    منت ل بتبرد تزخ شش مخنشش جلخ ل مزق\n",
      "8    10/2/20, 7:21 AM                      ðÿ˜‚ðÿ˜‚ðÿ˜‚ðÿ˜‚\n",
      "9    10/2/20, 8:56 AM                               نزلن مت\n",
      "10   10/2/20, 8:56 AM               ن حتم شنجب خل نتلع عل ش\n",
      "11   10/2/20, 8:57 AM                     خ ن شخل نزل عل تل\n",
      "12   10/2/20, 8:57 AM                                     خ\n",
      "13   10/2/20, 9:06 AM                          ن شت مل نشرد\n",
      "The runtime with multiprocess and pool is 96.77804064750671 seconds\n"
     ]
    }
   ],
   "source": [
    "start_time = time.time()\n",
    "paraller = parallelize_dataframe(whatsapp_chat, all_in_one)\n",
    "end_time = time.time()\n",
    "print(paraller[:10])\n",
    "time_elapsed = end_time-start_time\n",
    "print('The runtime with multiprocess and pool is %s seconds' %(time_elapsed))"
   ]
  },
  {
   "cell_type": "markdown",
   "metadata": {
    "papermill": {
     "duration": 0.144166,
     "end_time": "2021-05-26T19:13:44.450921",
     "exception": false,
     "start_time": "2021-05-26T19:13:44.306755",
     "status": "completed"
    },
    "tags": []
   },
   "source": [
    "# 4.Swifter"
   ]
  },
  {
   "cell_type": "code",
   "execution_count": 17,
   "metadata": {
    "execution": {
     "iopub.execute_input": "2021-05-26T19:13:44.743602Z",
     "iopub.status.busy": "2021-05-26T19:13:44.742941Z",
     "iopub.status.idle": "2021-05-26T19:14:07.990020Z",
     "shell.execute_reply": "2021-05-26T19:14:07.990902Z"
    },
    "papermill": {
     "duration": 23.396907,
     "end_time": "2021-05-26T19:14:07.991111",
     "exception": false,
     "start_time": "2021-05-26T19:13:44.594204",
     "status": "completed"
    },
    "tags": []
   },
   "outputs": [],
   "source": [
    "whatsapp_chat = pre(read_data(directory))\n",
    "whatsapp_chat_20 = whatsapp_chat[:20]"
   ]
  },
  {
   "cell_type": "code",
   "execution_count": 18,
   "metadata": {
    "execution": {
     "iopub.execute_input": "2021-05-26T19:14:08.977565Z",
     "iopub.status.busy": "2021-05-26T19:14:08.976923Z",
     "iopub.status.idle": "2021-05-26T19:16:01.176738Z",
     "shell.execute_reply": "2021-05-26T19:16:01.177183Z"
    },
    "papermill": {
     "duration": 112.939837,
     "end_time": "2021-05-26T19:16:01.177340",
     "exception": false,
     "start_time": "2021-05-26T19:14:08.237503",
     "status": "completed"
    },
    "tags": []
   },
   "outputs": [
    {
     "data": {
      "application/vnd.jupyter.widget-view+json": {
       "model_id": "b557e114cb974c93b1f9fe084e3c0052",
       "version_major": 2,
       "version_minor": 0
      },
      "text/plain": [
       "Pandas Apply:   0%|          | 0/2903111 [00:00<?, ?it/s]"
      ]
     },
     "metadata": {},
     "output_type": "display_data"
    },
    {
     "name": "stdout",
     "output_type": "stream",
     "text": [
      "                  Date                                 Chat\n",
      "0   12/26/18, 9:57 AM           كمل رتد جرة \"برث عل ðÿ“مخ\"\n",
      "1   12/26/18, 9:57 AM                                 ر ددد\n",
      "2    10/2/20, 4:15 AM                  لل مزج جب نزل بدر قل\n",
      "3    10/2/20, 4:24 AM    منت ل بتبرد تزخ شش مخنشش جلخ ل مزق\n",
      "8    10/2/20, 7:21 AM                      ðÿ˜‚ðÿ˜‚ðÿ˜‚ðÿ˜‚\n",
      "9    10/2/20, 8:56 AM                               نزلن مت\n",
      "10   10/2/20, 8:56 AM               ن حتم شنجب خل نتلع عل ش\n",
      "11   10/2/20, 8:57 AM                     خ ن شخل نزل عل تل\n",
      "12   10/2/20, 8:57 AM                                     خ\n",
      "13   10/2/20, 9:06 AM                          ن شت مل نشرد\n",
      "The runtime with multiprocess and pool is 112.75166964530945 seconds\n"
     ]
    },
    {
     "name": "stderr",
     "output_type": "stream",
     "text": [
      "/opt/conda/lib/python3.7/site-packages/ipykernel_launcher.py:3: SettingWithCopyWarning: \n",
      "A value is trying to be set on a copy of a slice from a DataFrame.\n",
      "Try using .loc[row_indexer,col_indexer] = value instead\n",
      "\n",
      "See the caveats in the documentation: https://pandas.pydata.org/pandas-docs/stable/user_guide/indexing.html#returning-a-view-versus-a-copy\n",
      "  This is separate from the ipykernel package so we can avoid doing imports until\n"
     ]
    }
   ],
   "source": [
    "start_time = time.time()\n",
    "df = whatsapp_chat.dropna()\n",
    "df['Chat'] = df['Chat'].swifter.apply(lambda x:anti_vowel(st.stem(deNoise(transString(duos(x).lower(), reverse = 1)))))\n",
    "end_time = time.time()\n",
    "print(df[:10])\n",
    "time_elapsed = end_time-start_time\n",
    "print('The runtime with multiprocess and pool is %s seconds' %(time_elapsed))\n"
   ]
  }
 ],
 "metadata": {
  "kernelspec": {
   "display_name": "Python 3",
   "language": "python",
   "name": "python3"
  },
  "language_info": {
   "codemirror_mode": {
    "name": "ipython",
    "version": 3
   },
   "file_extension": ".py",
   "mimetype": "text/x-python",
   "name": "python",
   "nbconvert_exporter": "python",
   "pygments_lexer": "ipython3",
   "version": "3.7.9"
  },
  "papermill": {
   "default_parameters": {},
   "duration": 887.53923,
   "end_time": "2021-05-26T19:16:03.538114",
   "environment_variables": {},
   "exception": null,
   "input_path": "__notebook__.ipynb",
   "output_path": "__notebook__.ipynb",
   "parameters": {},
   "start_time": "2021-05-26T19:01:15.998884",
   "version": "2.2.2"
  },
  "widgets": {
   "application/vnd.jupyter.widget-state+json": {
    "state": {
     "297cad92c72647d78397b4fa4f76227e": {
      "model_module": "@jupyter-widgets/controls",
      "model_module_version": "1.5.0",
      "model_name": "DescriptionStyleModel",
      "state": {
       "_model_module": "@jupyter-widgets/controls",
       "_model_module_version": "1.5.0",
       "_model_name": "DescriptionStyleModel",
       "_view_count": null,
       "_view_module": "@jupyter-widgets/base",
       "_view_module_version": "1.2.0",
       "_view_name": "StyleView",
       "description_width": ""
      }
     },
     "29f9ac426cd047f7a017c20ac111ccc4": {
      "model_module": "@jupyter-widgets/controls",
      "model_module_version": "1.5.0",
      "model_name": "HTMLModel",
      "state": {
       "_dom_classes": [],
       "_model_module": "@jupyter-widgets/controls",
       "_model_module_version": "1.5.0",
       "_model_name": "HTMLModel",
       "_view_count": null,
       "_view_module": "@jupyter-widgets/controls",
       "_view_module_version": "1.5.0",
       "_view_name": "HTMLView",
       "description": "",
       "description_tooltip": null,
       "layout": "IPY_MODEL_769c6b00c63140e5bc6210f743a81e41",
       "placeholder": "​",
       "style": "IPY_MODEL_297cad92c72647d78397b4fa4f76227e",
       "value": " 2903111/2903111 [01:51&lt;00:00, 27412.02it/s]"
      }
     },
     "46018efd916b4990b9cf1891755a5634": {
      "model_module": "@jupyter-widgets/controls",
      "model_module_version": "1.5.0",
      "model_name": "HTMLModel",
      "state": {
       "_dom_classes": [],
       "_model_module": "@jupyter-widgets/controls",
       "_model_module_version": "1.5.0",
       "_model_name": "HTMLModel",
       "_view_count": null,
       "_view_module": "@jupyter-widgets/controls",
       "_view_module_version": "1.5.0",
       "_view_name": "HTMLView",
       "description": "",
       "description_tooltip": null,
       "layout": "IPY_MODEL_483966e985184c5ca8778f67db965c82",
       "placeholder": "​",
       "style": "IPY_MODEL_5d9289053c75465c850ab66dd11b9f78",
       "value": "Pandas Apply: 100%"
      }
     },
     "483966e985184c5ca8778f67db965c82": {
      "model_module": "@jupyter-widgets/base",
      "model_module_version": "1.2.0",
      "model_name": "LayoutModel",
      "state": {
       "_model_module": "@jupyter-widgets/base",
       "_model_module_version": "1.2.0",
       "_model_name": "LayoutModel",
       "_view_count": null,
       "_view_module": "@jupyter-widgets/base",
       "_view_module_version": "1.2.0",
       "_view_name": "LayoutView",
       "align_content": null,
       "align_items": null,
       "align_self": null,
       "border": null,
       "bottom": null,
       "display": null,
       "flex": null,
       "flex_flow": null,
       "grid_area": null,
       "grid_auto_columns": null,
       "grid_auto_flow": null,
       "grid_auto_rows": null,
       "grid_column": null,
       "grid_gap": null,
       "grid_row": null,
       "grid_template_areas": null,
       "grid_template_columns": null,
       "grid_template_rows": null,
       "height": null,
       "justify_content": null,
       "justify_items": null,
       "left": null,
       "margin": null,
       "max_height": null,
       "max_width": null,
       "min_height": null,
       "min_width": null,
       "object_fit": null,
       "object_position": null,
       "order": null,
       "overflow": null,
       "overflow_x": null,
       "overflow_y": null,
       "padding": null,
       "right": null,
       "top": null,
       "visibility": null,
       "width": null
      }
     },
     "5d9289053c75465c850ab66dd11b9f78": {
      "model_module": "@jupyter-widgets/controls",
      "model_module_version": "1.5.0",
      "model_name": "DescriptionStyleModel",
      "state": {
       "_model_module": "@jupyter-widgets/controls",
       "_model_module_version": "1.5.0",
       "_model_name": "DescriptionStyleModel",
       "_view_count": null,
       "_view_module": "@jupyter-widgets/base",
       "_view_module_version": "1.2.0",
       "_view_name": "StyleView",
       "description_width": ""
      }
     },
     "6d95bf839b7c49c1aad1659168411c24": {
      "model_module": "@jupyter-widgets/base",
      "model_module_version": "1.2.0",
      "model_name": "LayoutModel",
      "state": {
       "_model_module": "@jupyter-widgets/base",
       "_model_module_version": "1.2.0",
       "_model_name": "LayoutModel",
       "_view_count": null,
       "_view_module": "@jupyter-widgets/base",
       "_view_module_version": "1.2.0",
       "_view_name": "LayoutView",
       "align_content": null,
       "align_items": null,
       "align_self": null,
       "border": null,
       "bottom": null,
       "display": null,
       "flex": null,
       "flex_flow": null,
       "grid_area": null,
       "grid_auto_columns": null,
       "grid_auto_flow": null,
       "grid_auto_rows": null,
       "grid_column": null,
       "grid_gap": null,
       "grid_row": null,
       "grid_template_areas": null,
       "grid_template_columns": null,
       "grid_template_rows": null,
       "height": null,
       "justify_content": null,
       "justify_items": null,
       "left": null,
       "margin": null,
       "max_height": null,
       "max_width": null,
       "min_height": null,
       "min_width": null,
       "object_fit": null,
       "object_position": null,
       "order": null,
       "overflow": null,
       "overflow_x": null,
       "overflow_y": null,
       "padding": null,
       "right": null,
       "top": null,
       "visibility": null,
       "width": null
      }
     },
     "769c6b00c63140e5bc6210f743a81e41": {
      "model_module": "@jupyter-widgets/base",
      "model_module_version": "1.2.0",
      "model_name": "LayoutModel",
      "state": {
       "_model_module": "@jupyter-widgets/base",
       "_model_module_version": "1.2.0",
       "_model_name": "LayoutModel",
       "_view_count": null,
       "_view_module": "@jupyter-widgets/base",
       "_view_module_version": "1.2.0",
       "_view_name": "LayoutView",
       "align_content": null,
       "align_items": null,
       "align_self": null,
       "border": null,
       "bottom": null,
       "display": null,
       "flex": null,
       "flex_flow": null,
       "grid_area": null,
       "grid_auto_columns": null,
       "grid_auto_flow": null,
       "grid_auto_rows": null,
       "grid_column": null,
       "grid_gap": null,
       "grid_row": null,
       "grid_template_areas": null,
       "grid_template_columns": null,
       "grid_template_rows": null,
       "height": null,
       "justify_content": null,
       "justify_items": null,
       "left": null,
       "margin": null,
       "max_height": null,
       "max_width": null,
       "min_height": null,
       "min_width": null,
       "object_fit": null,
       "object_position": null,
       "order": null,
       "overflow": null,
       "overflow_x": null,
       "overflow_y": null,
       "padding": null,
       "right": null,
       "top": null,
       "visibility": null,
       "width": null
      }
     },
     "9aafe36bae7d44d383be80f64e83cd92": {
      "model_module": "@jupyter-widgets/controls",
      "model_module_version": "1.5.0",
      "model_name": "ProgressStyleModel",
      "state": {
       "_model_module": "@jupyter-widgets/controls",
       "_model_module_version": "1.5.0",
       "_model_name": "ProgressStyleModel",
       "_view_count": null,
       "_view_module": "@jupyter-widgets/base",
       "_view_module_version": "1.2.0",
       "_view_name": "StyleView",
       "bar_color": null,
       "description_width": ""
      }
     },
     "b557e114cb974c93b1f9fe084e3c0052": {
      "model_module": "@jupyter-widgets/controls",
      "model_module_version": "1.5.0",
      "model_name": "HBoxModel",
      "state": {
       "_dom_classes": [],
       "_model_module": "@jupyter-widgets/controls",
       "_model_module_version": "1.5.0",
       "_model_name": "HBoxModel",
       "_view_count": null,
       "_view_module": "@jupyter-widgets/controls",
       "_view_module_version": "1.5.0",
       "_view_name": "HBoxView",
       "box_style": "",
       "children": [
        "IPY_MODEL_46018efd916b4990b9cf1891755a5634",
        "IPY_MODEL_db5ecf39847d4f3f83964534075e08fa",
        "IPY_MODEL_29f9ac426cd047f7a017c20ac111ccc4"
       ],
       "layout": "IPY_MODEL_6d95bf839b7c49c1aad1659168411c24"
      }
     },
     "db5ecf39847d4f3f83964534075e08fa": {
      "model_module": "@jupyter-widgets/controls",
      "model_module_version": "1.5.0",
      "model_name": "FloatProgressModel",
      "state": {
       "_dom_classes": [],
       "_model_module": "@jupyter-widgets/controls",
       "_model_module_version": "1.5.0",
       "_model_name": "FloatProgressModel",
       "_view_count": null,
       "_view_module": "@jupyter-widgets/controls",
       "_view_module_version": "1.5.0",
       "_view_name": "ProgressView",
       "bar_style": "success",
       "description": "",
       "description_tooltip": null,
       "layout": "IPY_MODEL_f8440849654c4b249c1971510bdd79c5",
       "max": 2903111.0,
       "min": 0.0,
       "orientation": "horizontal",
       "style": "IPY_MODEL_9aafe36bae7d44d383be80f64e83cd92",
       "value": 2903111.0
      }
     },
     "f8440849654c4b249c1971510bdd79c5": {
      "model_module": "@jupyter-widgets/base",
      "model_module_version": "1.2.0",
      "model_name": "LayoutModel",
      "state": {
       "_model_module": "@jupyter-widgets/base",
       "_model_module_version": "1.2.0",
       "_model_name": "LayoutModel",
       "_view_count": null,
       "_view_module": "@jupyter-widgets/base",
       "_view_module_version": "1.2.0",
       "_view_name": "LayoutView",
       "align_content": null,
       "align_items": null,
       "align_self": null,
       "border": null,
       "bottom": null,
       "display": null,
       "flex": null,
       "flex_flow": null,
       "grid_area": null,
       "grid_auto_columns": null,
       "grid_auto_flow": null,
       "grid_auto_rows": null,
       "grid_column": null,
       "grid_gap": null,
       "grid_row": null,
       "grid_template_areas": null,
       "grid_template_columns": null,
       "grid_template_rows": null,
       "height": null,
       "justify_content": null,
       "justify_items": null,
       "left": null,
       "margin": null,
       "max_height": null,
       "max_width": null,
       "min_height": null,
       "min_width": null,
       "object_fit": null,
       "object_position": null,
       "order": null,
       "overflow": null,
       "overflow_x": null,
       "overflow_y": null,
       "padding": null,
       "right": null,
       "top": null,
       "visibility": null,
       "width": null
      }
     }
    },
    "version_major": 2,
    "version_minor": 0
   }
  }
 },
 "nbformat": 4,
 "nbformat_minor": 4
}
