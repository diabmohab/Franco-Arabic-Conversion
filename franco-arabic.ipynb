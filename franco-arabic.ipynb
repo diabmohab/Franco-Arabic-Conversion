{
 "cells": [
  {
   "cell_type": "markdown",
   "metadata": {
    "papermill": {
     "duration": 0.015191,
     "end_time": "2021-05-25T15:47:44.054291",
     "exception": false,
     "start_time": "2021-05-25T15:47:44.039100",
     "status": "completed"
    },
    "tags": []
   },
   "source": [
    "# Frabco Arabic\n",
    "### people of egypt have adopted a new way to write arabic in english letters and numbers, which till thisa moment can decieve facebook's algorithms, in order to avoid being panned, people use specific patterns of english letters and numbers to express a racist comment or a curse word.\n",
    "### I'm trying to build a functionality to help the algorithm unify and catch these words on the fly.\n",
    "### the output of my funcionality is of a very low redibility, which means it's not aiming end users or humans, but a machine that can interpret a meaningless arabic expression or word, add it to the araboc glossary and try to match it to it's original word.\n",
    "### this notebook only aims for the word conversion from \"al salam\" to \"السلام\", in order to do this, certain thing shhould be taking into consideration such as (vowels conversion, spacese betwwen articles and words, siimilarily pronounced letters).\n",
    "### this notebook is more of a playground, the functions are yet to be updated and refined, and more cases to be tested.\n",
    "### the data is almost 3 millions records of comments typed in both english and arabic letter.\n",
    "### various ways of parallelism were used in this notebook to enhance the computation performance and rntime\n",
    "### it's noticed that there is no significance difference in performance between each of these methods and a regular lambda funcion actually. difference would be noticed if the data was bigger.\n",
    "### in general I can say that I have learned new techniques that will come out very handy in every future project.\n"
   ]
  },
  {
   "cell_type": "code",
   "execution_count": 1,
   "metadata": {
    "execution": {
     "iopub.execute_input": "2021-05-25T15:47:44.089309Z",
     "iopub.status.busy": "2021-05-25T15:47:44.088742Z",
     "iopub.status.idle": "2021-05-25T15:49:14.702698Z",
     "shell.execute_reply": "2021-05-25T15:49:14.702051Z",
     "shell.execute_reply.started": "2021-05-25T15:26:07.056213Z"
    },
    "papermill": {
     "duration": 90.63484,
     "end_time": "2021-05-25T15:49:14.702893",
     "exception": false,
     "start_time": "2021-05-25T15:47:44.068053",
     "status": "completed"
    },
    "tags": []
   },
   "outputs": [
    {
     "name": "stdout",
     "output_type": "stream",
     "text": [
      "Collecting SpellChecker\r\n",
      "  Downloading spellchecker-0.4.tar.gz (3.9 MB)\r\n",
      "\u001b[K     |████████████████████████████████| 3.9 MB 4.4 MB/s \r\n",
      "\u001b[?25hRequirement already satisfied: setuptools in /opt/conda/lib/python3.7/site-packages (from SpellChecker) (49.6.0.post20201009)\r\n",
      "Collecting inexactsearch\r\n",
      "  Downloading inexactsearch-1.0.2.tar.gz (21 kB)\r\n",
      "Collecting soundex>=1.0\r\n",
      "  Downloading soundex-1.1.3.tar.gz (9.1 kB)\r\n",
      "Collecting silpa_common>=0.3\r\n",
      "  Downloading silpa_common-0.3.tar.gz (9.4 kB)\r\n",
      "Building wheels for collected packages: SpellChecker, inexactsearch, silpa-common, soundex\r\n",
      "  Building wheel for SpellChecker (setup.py) ... \u001b[?25l-\b \b\\\b \b|\b \b/\b \b-\b \b\\\b \b|\b \b/\b \b-\b \bdone\r\n",
      "\u001b[?25h  Created wheel for SpellChecker: filename=spellchecker-0.4-py3-none-any.whl size=3966516 sha256=8950aa1acae37a12eb78fb76972e226b1bccb32c84d818d327c38b8f0464758f\r\n",
      "  Stored in directory: /root/.cache/pip/wheels/58/e9/48/b82b733a7a0a9cc52ed239ccf082ff33e2fbda71670ddd3349\r\n",
      "  Building wheel for inexactsearch (setup.py) ... \u001b[?25l-\b \b\\\b \bdone\r\n",
      "\u001b[?25h  Created wheel for inexactsearch: filename=inexactsearch-1.0.2-py3-none-any.whl size=7112 sha256=c32c0f823a139f4be835f65ad4078b1bd5aa841d29c11f1c724e450a831145d3\r\n",
      "  Stored in directory: /root/.cache/pip/wheels/3c/f3/5d/77e8983e86af1c3c62b80d76de8020f560ce6367f1b2763b40\r\n",
      "  Building wheel for silpa-common (setup.py) ... \u001b[?25l-\b \b\\\b \bdone\r\n",
      "\u001b[?25h  Created wheel for silpa-common: filename=silpa_common-0.3-py3-none-any.whl size=8452 sha256=48c5c8d2b4c99cef124e829904a09c8ac957588e82b984d5c1583dd3815adeca\r\n",
      "  Stored in directory: /root/.cache/pip/wheels/02/81/11/40ef1cf40f5c4021a214653ca3362914f0f9e14e8322f75f9b\r\n",
      "  Building wheel for soundex (setup.py) ... \u001b[?25l-\b \b\\\b \bdone\r\n",
      "\u001b[?25h  Created wheel for soundex: filename=soundex-1.1.3-py3-none-any.whl size=8861 sha256=e67a9dacbe963ffc8b97909a0b65eaac13dfed045ec318172d1ff6bf85289ad5\r\n",
      "  Stored in directory: /root/.cache/pip/wheels/6b/22/0f/0ac590ac1dc0fa60f57151bf39f1fae86a9978a1d54b48e197\r\n",
      "Successfully built SpellChecker inexactsearch silpa-common soundex\r\n",
      "Installing collected packages: silpa-common, soundex, inexactsearch, SpellChecker\r\n",
      "Successfully installed SpellChecker-0.4 inexactsearch-1.0.2 silpa-common-0.3 soundex-1.1.3\r\n",
      "\u001b[33mWARNING: You are using pip version 21.0; however, version 21.1.2 is available.\r\n",
      "You should consider upgrading via the '/opt/conda/bin/python3.7 -m pip install --upgrade pip' command.\u001b[0m\r\n",
      "Collecting swifter\r\n",
      "  Downloading swifter-1.0.7.tar.gz (633 kB)\r\n",
      "\u001b[K     |████████████████████████████████| 633 kB 4.5 MB/s \r\n",
      "\u001b[?25hRequirement already satisfied: pandas>=1.0.0 in /opt/conda/lib/python3.7/site-packages (from swifter) (1.1.5)\r\n",
      "Requirement already satisfied: psutil>=5.6.6 in /opt/conda/lib/python3.7/site-packages (from swifter) (5.8.0)\r\n",
      "Requirement already satisfied: dask[dataframe]>=2.10.0 in /opt/conda/lib/python3.7/site-packages (from swifter) (2021.1.1)\r\n",
      "Requirement already satisfied: tqdm>=4.33.0 in /opt/conda/lib/python3.7/site-packages (from swifter) (4.55.1)\r\n",
      "Requirement already satisfied: ipywidgets>=7.0.0cloudpickle>=0.2.2 in /opt/conda/lib/python3.7/site-packages (from swifter) (7.6.2)\r\n",
      "Requirement already satisfied: parso>0.4.0 in /opt/conda/lib/python3.7/site-packages (from swifter) (0.8.1)\r\n",
      "Requirement already satisfied: bleach>=3.1.1 in /opt/conda/lib/python3.7/site-packages (from swifter) (3.2.1)\r\n",
      "Collecting modin[ray]>=0.8.1.1\r\n",
      "  Downloading modin-0.9.1-py3-none-manylinux1_x86_64.whl (579 kB)\r\n",
      "\u001b[K     |████████████████████████████████| 579 kB 16.8 MB/s \r\n",
      "\u001b[?25hRequirement already satisfied: packaging in /opt/conda/lib/python3.7/site-packages (from bleach>=3.1.1->swifter) (20.8)\r\n",
      "Requirement already satisfied: six>=1.9.0 in /opt/conda/lib/python3.7/site-packages (from bleach>=3.1.1->swifter) (1.15.0)\r\n",
      "Requirement already satisfied: webencodings in /opt/conda/lib/python3.7/site-packages (from bleach>=3.1.1->swifter) (0.5.1)\r\n",
      "Requirement already satisfied: pyyaml in /opt/conda/lib/python3.7/site-packages (from dask[dataframe]>=2.10.0->swifter) (5.3.1)\r\n",
      "Requirement already satisfied: numpy>=1.15.1 in /opt/conda/lib/python3.7/site-packages (from dask[dataframe]>=2.10.0->swifter) (1.19.5)\r\n",
      "Requirement already satisfied: partd>=0.3.10 in /opt/conda/lib/python3.7/site-packages (from dask[dataframe]>=2.10.0->swifter) (1.1.0)\r\n",
      "Requirement already satisfied: toolz>=0.8.2 in /opt/conda/lib/python3.7/site-packages (from dask[dataframe]>=2.10.0->swifter) (0.11.1)\r\n",
      "Requirement already satisfied: fsspec>=0.6.0 in /opt/conda/lib/python3.7/site-packages (from dask[dataframe]>=2.10.0->swifter) (0.8.5)\r\n",
      "Requirement already satisfied: nbformat>=4.2.0 in /opt/conda/lib/python3.7/site-packages (from ipywidgets>=7.0.0cloudpickle>=0.2.2->swifter) (5.0.8)\r\n",
      "Requirement already satisfied: widgetsnbextension~=3.5.0 in /opt/conda/lib/python3.7/site-packages (from ipywidgets>=7.0.0cloudpickle>=0.2.2->swifter) (3.5.1)\r\n",
      "Requirement already satisfied: jupyterlab-widgets>=1.0.0 in /opt/conda/lib/python3.7/site-packages (from ipywidgets>=7.0.0cloudpickle>=0.2.2->swifter) (1.0.0)\r\n",
      "Requirement already satisfied: ipykernel>=4.5.1 in /opt/conda/lib/python3.7/site-packages (from ipywidgets>=7.0.0cloudpickle>=0.2.2->swifter) (5.1.1)\r\n",
      "Requirement already satisfied: traitlets>=4.3.1 in /opt/conda/lib/python3.7/site-packages (from ipywidgets>=7.0.0cloudpickle>=0.2.2->swifter) (5.0.5)\r\n",
      "Requirement already satisfied: ipython>=4.0.0 in /opt/conda/lib/python3.7/site-packages (from ipywidgets>=7.0.0cloudpickle>=0.2.2->swifter) (7.19.0)\r\n",
      "Requirement already satisfied: jupyter-client in /opt/conda/lib/python3.7/site-packages (from ipykernel>=4.5.1->ipywidgets>=7.0.0cloudpickle>=0.2.2->swifter) (6.1.7)\r\n",
      "Requirement already satisfied: tornado>=4.2 in /opt/conda/lib/python3.7/site-packages (from ipykernel>=4.5.1->ipywidgets>=7.0.0cloudpickle>=0.2.2->swifter) (5.0.2)\r\n",
      "Requirement already satisfied: pickleshare in /opt/conda/lib/python3.7/site-packages (from ipython>=4.0.0->ipywidgets>=7.0.0cloudpickle>=0.2.2->swifter) (0.7.5)\r\n",
      "Requirement already satisfied: jedi>=0.10 in /opt/conda/lib/python3.7/site-packages (from ipython>=4.0.0->ipywidgets>=7.0.0cloudpickle>=0.2.2->swifter) (0.18.0)\r\n",
      "Requirement already satisfied: pygments in /opt/conda/lib/python3.7/site-packages (from ipython>=4.0.0->ipywidgets>=7.0.0cloudpickle>=0.2.2->swifter) (2.7.3)\r\n",
      "Requirement already satisfied: backcall in /opt/conda/lib/python3.7/site-packages (from ipython>=4.0.0->ipywidgets>=7.0.0cloudpickle>=0.2.2->swifter) (0.2.0)\r\n",
      "Requirement already satisfied: setuptools>=18.5 in /opt/conda/lib/python3.7/site-packages (from ipython>=4.0.0->ipywidgets>=7.0.0cloudpickle>=0.2.2->swifter) (49.6.0.post20201009)\r\n",
      "Requirement already satisfied: prompt-toolkit!=3.0.0,!=3.0.1,<3.1.0,>=2.0.0 in /opt/conda/lib/python3.7/site-packages (from ipython>=4.0.0->ipywidgets>=7.0.0cloudpickle>=0.2.2->swifter) (3.0.8)\r\n",
      "Requirement already satisfied: decorator in /opt/conda/lib/python3.7/site-packages (from ipython>=4.0.0->ipywidgets>=7.0.0cloudpickle>=0.2.2->swifter) (4.4.2)\r\n",
      "Requirement already satisfied: pexpect>4.3 in /opt/conda/lib/python3.7/site-packages (from ipython>=4.0.0->ipywidgets>=7.0.0cloudpickle>=0.2.2->swifter) (4.8.0)\r\n",
      "Collecting pandas>=1.0.0\r\n",
      "  Downloading pandas-1.2.3-cp37-cp37m-manylinux1_x86_64.whl (9.9 MB)\r\n",
      "\u001b[K     |████████████████████████████████| 9.9 MB 15.8 MB/s \r\n",
      "\u001b[?25hCollecting pyarrow==1.0\r\n",
      "  Downloading pyarrow-1.0.0-cp37-cp37m-manylinux2014_x86_64.whl (17.2 MB)\r\n",
      "\u001b[K     |████████████████████████████████| 17.2 MB 57.5 MB/s \r\n",
      "\u001b[?25hRequirement already satisfied: ray<1.2.0,>=1.0.0 in /opt/conda/lib/python3.7/site-packages (from modin[ray]>=0.8.1.1->swifter) (1.1.0)\r\n",
      "Requirement already satisfied: python-dateutil>=2.7.3 in /opt/conda/lib/python3.7/site-packages (from pandas>=1.0.0->swifter) (2.8.1)\r\n",
      "Requirement already satisfied: pytz>=2017.3 in /opt/conda/lib/python3.7/site-packages (from pandas>=1.0.0->swifter) (2019.3)\r\n",
      "Requirement already satisfied: jupyter-core in /opt/conda/lib/python3.7/site-packages (from nbformat>=4.2.0->ipywidgets>=7.0.0cloudpickle>=0.2.2->swifter) (4.7.0)\r\n",
      "Requirement already satisfied: ipython-genutils in /opt/conda/lib/python3.7/site-packages (from nbformat>=4.2.0->ipywidgets>=7.0.0cloudpickle>=0.2.2->swifter) (0.2.0)\r\n",
      "Requirement already satisfied: jsonschema!=2.5.0,>=2.4 in /opt/conda/lib/python3.7/site-packages (from nbformat>=4.2.0->ipywidgets>=7.0.0cloudpickle>=0.2.2->swifter) (3.2.0)\r\n",
      "Requirement already satisfied: importlib-metadata in /opt/conda/lib/python3.7/site-packages (from jsonschema!=2.5.0,>=2.4->nbformat>=4.2.0->ipywidgets>=7.0.0cloudpickle>=0.2.2->swifter) (3.3.0)\r\n",
      "Requirement already satisfied: pyrsistent>=0.14.0 in /opt/conda/lib/python3.7/site-packages (from jsonschema!=2.5.0,>=2.4->nbformat>=4.2.0->ipywidgets>=7.0.0cloudpickle>=0.2.2->swifter) (0.17.3)\r\n",
      "Requirement already satisfied: attrs>=17.4.0 in /opt/conda/lib/python3.7/site-packages (from jsonschema!=2.5.0,>=2.4->nbformat>=4.2.0->ipywidgets>=7.0.0cloudpickle>=0.2.2->swifter) (20.3.0)\r\n",
      "Requirement already satisfied: locket in /opt/conda/lib/python3.7/site-packages (from partd>=0.3.10->dask[dataframe]>=2.10.0->swifter) (0.2.1)\r\n",
      "Requirement already satisfied: ptyprocess>=0.5 in /opt/conda/lib/python3.7/site-packages (from pexpect>4.3->ipython>=4.0.0->ipywidgets>=7.0.0cloudpickle>=0.2.2->swifter) (0.7.0)\r\n",
      "Requirement already satisfied: wcwidth in /opt/conda/lib/python3.7/site-packages (from prompt-toolkit!=3.0.0,!=3.0.1,<3.1.0,>=2.0.0->ipython>=4.0.0->ipywidgets>=7.0.0cloudpickle>=0.2.2->swifter) (0.2.5)\r\n",
      "Requirement already satisfied: protobuf>=3.8.0 in /opt/conda/lib/python3.7/site-packages (from ray<1.2.0,>=1.0.0->modin[ray]>=0.8.1.1->swifter) (3.14.0)\r\n",
      "Requirement already satisfied: opencensus in /opt/conda/lib/python3.7/site-packages (from ray<1.2.0,>=1.0.0->modin[ray]>=0.8.1.1->swifter) (0.7.12)\r\n",
      "Requirement already satisfied: aiohttp in /opt/conda/lib/python3.7/site-packages (from ray<1.2.0,>=1.0.0->modin[ray]>=0.8.1.1->swifter) (3.7.3)\r\n",
      "Requirement already satisfied: click>=7.0 in /opt/conda/lib/python3.7/site-packages (from ray<1.2.0,>=1.0.0->modin[ray]>=0.8.1.1->swifter) (7.1.2)\r\n",
      "Requirement already satisfied: prometheus-client>=0.7.1 in /opt/conda/lib/python3.7/site-packages (from ray<1.2.0,>=1.0.0->modin[ray]>=0.8.1.1->swifter) (0.9.0)\r\n",
      "Requirement already satisfied: requests in /opt/conda/lib/python3.7/site-packages (from ray<1.2.0,>=1.0.0->modin[ray]>=0.8.1.1->swifter) (2.25.1)\r\n",
      "Requirement already satisfied: py-spy>=0.2.0 in /opt/conda/lib/python3.7/site-packages (from ray<1.2.0,>=1.0.0->modin[ray]>=0.8.1.1->swifter) (0.3.4)\r\n",
      "Requirement already satisfied: redis>=3.5.0 in /opt/conda/lib/python3.7/site-packages (from ray<1.2.0,>=1.0.0->modin[ray]>=0.8.1.1->swifter) (3.5.3)\r\n",
      "Requirement already satisfied: aiohttp-cors in /opt/conda/lib/python3.7/site-packages (from ray<1.2.0,>=1.0.0->modin[ray]>=0.8.1.1->swifter) (0.7.0)\r\n",
      "Requirement already satisfied: aioredis in /opt/conda/lib/python3.7/site-packages (from ray<1.2.0,>=1.0.0->modin[ray]>=0.8.1.1->swifter) (1.3.1)\r\n",
      "Requirement already satisfied: grpcio>=1.28.1 in /opt/conda/lib/python3.7/site-packages (from ray<1.2.0,>=1.0.0->modin[ray]>=0.8.1.1->swifter) (1.32.0)\r\n",
      "Requirement already satisfied: gpustat in /opt/conda/lib/python3.7/site-packages (from ray<1.2.0,>=1.0.0->modin[ray]>=0.8.1.1->swifter) (0.6.0)\r\n",
      "Requirement already satisfied: filelock in /opt/conda/lib/python3.7/site-packages (from ray<1.2.0,>=1.0.0->modin[ray]>=0.8.1.1->swifter) (3.0.12)\r\n",
      "Requirement already satisfied: msgpack<2.0.0,>=1.0.0 in /opt/conda/lib/python3.7/site-packages (from ray<1.2.0,>=1.0.0->modin[ray]>=0.8.1.1->swifter) (1.0.2)\r\n",
      "Requirement already satisfied: colorama in /opt/conda/lib/python3.7/site-packages (from ray<1.2.0,>=1.0.0->modin[ray]>=0.8.1.1->swifter) (0.4.4)\r\n",
      "Requirement already satisfied: colorful in /opt/conda/lib/python3.7/site-packages (from ray<1.2.0,>=1.0.0->modin[ray]>=0.8.1.1->swifter) (0.5.4)\r\n",
      "Requirement already satisfied: notebook>=4.4.1 in /opt/conda/lib/python3.7/site-packages (from widgetsnbextension~=3.5.0->ipywidgets>=7.0.0cloudpickle>=0.2.2->swifter) (5.5.0)\r\n",
      "Requirement already satisfied: terminado>=0.8.1 in /opt/conda/lib/python3.7/site-packages (from notebook>=4.4.1->widgetsnbextension~=3.5.0->ipywidgets>=7.0.0cloudpickle>=0.2.2->swifter) (0.9.2)\r\n",
      "Requirement already satisfied: Send2Trash in /opt/conda/lib/python3.7/site-packages (from notebook>=4.4.1->widgetsnbextension~=3.5.0->ipywidgets>=7.0.0cloudpickle>=0.2.2->swifter) (1.5.0)\r\n",
      "Requirement already satisfied: nbconvert in /opt/conda/lib/python3.7/site-packages (from notebook>=4.4.1->widgetsnbextension~=3.5.0->ipywidgets>=7.0.0cloudpickle>=0.2.2->swifter) (6.0.7)\r\n",
      "Requirement already satisfied: pyzmq>=17 in /opt/conda/lib/python3.7/site-packages (from notebook>=4.4.1->widgetsnbextension~=3.5.0->ipywidgets>=7.0.0cloudpickle>=0.2.2->swifter) (20.0.0)\r\n",
      "Requirement already satisfied: jinja2 in /opt/conda/lib/python3.7/site-packages (from notebook>=4.4.1->widgetsnbextension~=3.5.0->ipywidgets>=7.0.0cloudpickle>=0.2.2->swifter) (2.11.2)\r\n",
      "Requirement already satisfied: typing-extensions>=3.6.5 in /opt/conda/lib/python3.7/site-packages (from aiohttp->ray<1.2.0,>=1.0.0->modin[ray]>=0.8.1.1->swifter) (3.7.4.3)\r\n",
      "Requirement already satisfied: multidict<7.0,>=4.5 in /opt/conda/lib/python3.7/site-packages (from aiohttp->ray<1.2.0,>=1.0.0->modin[ray]>=0.8.1.1->swifter) (5.1.0)\r\n",
      "Requirement already satisfied: yarl<2.0,>=1.0 in /opt/conda/lib/python3.7/site-packages (from aiohttp->ray<1.2.0,>=1.0.0->modin[ray]>=0.8.1.1->swifter) (1.6.3)\r\n",
      "Requirement already satisfied: chardet<4.0,>=2.0 in /opt/conda/lib/python3.7/site-packages (from aiohttp->ray<1.2.0,>=1.0.0->modin[ray]>=0.8.1.1->swifter) (3.0.4)\r\n",
      "Requirement already satisfied: async-timeout<4.0,>=3.0 in /opt/conda/lib/python3.7/site-packages (from aiohttp->ray<1.2.0,>=1.0.0->modin[ray]>=0.8.1.1->swifter) (3.0.1)\r\n",
      "Requirement already satisfied: idna>=2.0 in /opt/conda/lib/python3.7/site-packages (from yarl<2.0,>=1.0->aiohttp->ray<1.2.0,>=1.0.0->modin[ray]>=0.8.1.1->swifter) (2.10)\r\n",
      "Requirement already satisfied: hiredis in /opt/conda/lib/python3.7/site-packages (from aioredis->ray<1.2.0,>=1.0.0->modin[ray]>=0.8.1.1->swifter) (1.1.0)\r\n",
      "Requirement already satisfied: nvidia-ml-py3>=7.352.0 in /opt/conda/lib/python3.7/site-packages (from gpustat->ray<1.2.0,>=1.0.0->modin[ray]>=0.8.1.1->swifter) (7.352.0)\r\n",
      "Requirement already satisfied: blessings>=1.6 in /opt/conda/lib/python3.7/site-packages (from gpustat->ray<1.2.0,>=1.0.0->modin[ray]>=0.8.1.1->swifter) (1.7)\r\n",
      "Requirement already satisfied: zipp>=0.5 in /opt/conda/lib/python3.7/site-packages (from importlib-metadata->jsonschema!=2.5.0,>=2.4->nbformat>=4.2.0->ipywidgets>=7.0.0cloudpickle>=0.2.2->swifter) (3.4.0)\r\n",
      "Requirement already satisfied: MarkupSafe>=0.23 in /opt/conda/lib/python3.7/site-packages (from jinja2->notebook>=4.4.1->widgetsnbextension~=3.5.0->ipywidgets>=7.0.0cloudpickle>=0.2.2->swifter) (1.1.1)\r\n",
      "Requirement already satisfied: mistune<2,>=0.8.1 in /opt/conda/lib/python3.7/site-packages (from nbconvert->notebook>=4.4.1->widgetsnbextension~=3.5.0->ipywidgets>=7.0.0cloudpickle>=0.2.2->swifter) (0.8.4)\r\n",
      "Requirement already satisfied: defusedxml in /opt/conda/lib/python3.7/site-packages (from nbconvert->notebook>=4.4.1->widgetsnbextension~=3.5.0->ipywidgets>=7.0.0cloudpickle>=0.2.2->swifter) (0.6.0)\r\n",
      "Requirement already satisfied: pandocfilters>=1.4.1 in /opt/conda/lib/python3.7/site-packages (from nbconvert->notebook>=4.4.1->widgetsnbextension~=3.5.0->ipywidgets>=7.0.0cloudpickle>=0.2.2->swifter) (1.4.2)\r\n",
      "Requirement already satisfied: jupyterlab-pygments in /opt/conda/lib/python3.7/site-packages (from nbconvert->notebook>=4.4.1->widgetsnbextension~=3.5.0->ipywidgets>=7.0.0cloudpickle>=0.2.2->swifter) (0.1.2)\r\n",
      "Requirement already satisfied: testpath in /opt/conda/lib/python3.7/site-packages (from nbconvert->notebook>=4.4.1->widgetsnbextension~=3.5.0->ipywidgets>=7.0.0cloudpickle>=0.2.2->swifter) (0.4.4)\r\n",
      "Requirement already satisfied: nbclient<0.6.0,>=0.5.0 in /opt/conda/lib/python3.7/site-packages (from nbconvert->notebook>=4.4.1->widgetsnbextension~=3.5.0->ipywidgets>=7.0.0cloudpickle>=0.2.2->swifter) (0.5.1)\r\n",
      "Requirement already satisfied: entrypoints>=0.2.2 in /opt/conda/lib/python3.7/site-packages (from nbconvert->notebook>=4.4.1->widgetsnbextension~=3.5.0->ipywidgets>=7.0.0cloudpickle>=0.2.2->swifter) (0.3)\r\n",
      "Requirement already satisfied: nest-asyncio in /opt/conda/lib/python3.7/site-packages (from nbclient<0.6.0,>=0.5.0->nbconvert->notebook>=4.4.1->widgetsnbextension~=3.5.0->ipywidgets>=7.0.0cloudpickle>=0.2.2->swifter) (1.4.3)\r\n",
      "Requirement already satisfied: async-generator in /opt/conda/lib/python3.7/site-packages (from nbclient<0.6.0,>=0.5.0->nbconvert->notebook>=4.4.1->widgetsnbextension~=3.5.0->ipywidgets>=7.0.0cloudpickle>=0.2.2->swifter) (1.10)\r\n",
      "Requirement already satisfied: google-api-core<2.0.0,>=1.0.0 in /opt/conda/lib/python3.7/site-packages (from opencensus->ray<1.2.0,>=1.0.0->modin[ray]>=0.8.1.1->swifter) (1.22.4)\r\n",
      "Requirement already satisfied: opencensus-context==0.1.2 in /opt/conda/lib/python3.7/site-packages (from opencensus->ray<1.2.0,>=1.0.0->modin[ray]>=0.8.1.1->swifter) (0.1.2)\r\n",
      "Requirement already satisfied: googleapis-common-protos<2.0dev,>=1.6.0 in /opt/conda/lib/python3.7/site-packages (from google-api-core<2.0.0,>=1.0.0->opencensus->ray<1.2.0,>=1.0.0->modin[ray]>=0.8.1.1->swifter) (1.52.0)\r\n",
      "Requirement already satisfied: google-auth<2.0dev,>=1.21.1 in /opt/conda/lib/python3.7/site-packages (from google-api-core<2.0.0,>=1.0.0->opencensus->ray<1.2.0,>=1.0.0->modin[ray]>=0.8.1.1->swifter) (1.24.0)\r\n",
      "Requirement already satisfied: pyasn1-modules>=0.2.1 in /opt/conda/lib/python3.7/site-packages (from google-auth<2.0dev,>=1.21.1->google-api-core<2.0.0,>=1.0.0->opencensus->ray<1.2.0,>=1.0.0->modin[ray]>=0.8.1.1->swifter) (0.2.7)\r\n",
      "Requirement already satisfied: rsa<5,>=3.1.4 in /opt/conda/lib/python3.7/site-packages (from google-auth<2.0dev,>=1.21.1->google-api-core<2.0.0,>=1.0.0->opencensus->ray<1.2.0,>=1.0.0->modin[ray]>=0.8.1.1->swifter) (4.6)\r\n",
      "Requirement already satisfied: cachetools<5.0,>=2.0.0 in /opt/conda/lib/python3.7/site-packages (from google-auth<2.0dev,>=1.21.1->google-api-core<2.0.0,>=1.0.0->opencensus->ray<1.2.0,>=1.0.0->modin[ray]>=0.8.1.1->swifter) (4.1.1)\r\n",
      "Requirement already satisfied: pyasn1<0.5.0,>=0.4.6 in /opt/conda/lib/python3.7/site-packages (from pyasn1-modules>=0.2.1->google-auth<2.0dev,>=1.21.1->google-api-core<2.0.0,>=1.0.0->opencensus->ray<1.2.0,>=1.0.0->modin[ray]>=0.8.1.1->swifter) (0.4.8)\r\n",
      "Requirement already satisfied: certifi>=2017.4.17 in /opt/conda/lib/python3.7/site-packages (from requests->ray<1.2.0,>=1.0.0->modin[ray]>=0.8.1.1->swifter) (2020.12.5)\r\n",
      "Requirement already satisfied: urllib3<1.27,>=1.21.1 in /opt/conda/lib/python3.7/site-packages (from requests->ray<1.2.0,>=1.0.0->modin[ray]>=0.8.1.1->swifter) (1.26.2)\r\n",
      "Requirement already satisfied: pyparsing>=2.0.2 in /opt/conda/lib/python3.7/site-packages (from packaging->bleach>=3.1.1->swifter) (2.4.7)\r\n",
      "Building wheels for collected packages: swifter\r\n",
      "  Building wheel for swifter (setup.py) ... \u001b[?25l-\b \bdone\r\n",
      "\u001b[?25h  Created wheel for swifter: filename=swifter-1.0.7-py3-none-any.whl size=13976 sha256=6520417b2c33157651c28d9c650cba12de3650de6ab8299dd3dcd2d4e78f97a6\r\n",
      "  Stored in directory: /root/.cache/pip/wheels/49/44/5b/2c3fcb044734cb9969adbeeab8de419e571fb3d9d0b9f62dae\r\n",
      "Successfully built swifter\r\n",
      "Installing collected packages: pandas, pyarrow, modin, swifter\r\n",
      "  Attempting uninstall: pandas\r\n",
      "    Found existing installation: pandas 1.1.5\r\n",
      "    Uninstalling pandas-1.1.5:\r\n",
      "      Successfully uninstalled pandas-1.1.5\r\n",
      "  Attempting uninstall: pyarrow\r\n",
      "    Found existing installation: pyarrow 1.0.1\r\n",
      "    Uninstalling pyarrow-1.0.1:\r\n",
      "      Successfully uninstalled pyarrow-1.0.1\r\n",
      "Successfully installed modin-0.9.1 pandas-1.2.3 pyarrow-1.0.0 swifter-1.0.7\r\n",
      "\u001b[33mWARNING: You are using pip version 21.0; however, version 21.1.2 is available.\r\n",
      "You should consider upgrading via the '/opt/conda/bin/python3.7 -m pip install --upgrade pip' command.\u001b[0m\r\n",
      "Collecting pandarallel\r\n",
      "  Downloading pandarallel-1.5.2.tar.gz (16 kB)\r\n",
      "Requirement already satisfied: dill in /opt/conda/lib/python3.7/site-packages (from pandarallel) (0.3.3)\r\n",
      "Building wheels for collected packages: pandarallel\r\n",
      "  Building wheel for pandarallel (setup.py) ... \u001b[?25l-\b \bdone\r\n",
      "\u001b[?25h  Created wheel for pandarallel: filename=pandarallel-1.5.2-py3-none-any.whl size=18384 sha256=ff639637ef01e34cb700380c713d811083a621e8baaeee7eaa68122a8c4f09d9\r\n",
      "  Stored in directory: /root/.cache/pip/wheels/b5/6d/51/9ece2eaf007ea3f7fb0ce053c5773b2eb0d308887da3af12c1\r\n",
      "Successfully built pandarallel\r\n",
      "Installing collected packages: pandarallel\r\n",
      "Successfully installed pandarallel-1.5.2\r\n",
      "\u001b[33mWARNING: You are using pip version 21.0; however, version 21.1.2 is available.\r\n",
      "You should consider upgrading via the '/opt/conda/bin/python3.7 -m pip install --upgrade pip' command.\u001b[0m\r\n",
      "Collecting pyspark\r\n",
      "  Downloading pyspark-3.1.1.tar.gz (212.3 MB)\r\n",
      "\u001b[K     |████████████████████████████████| 212.3 MB 15 kB/s \r\n",
      "\u001b[?25hCollecting py4j==0.10.9\r\n",
      "  Downloading py4j-0.10.9-py2.py3-none-any.whl (198 kB)\r\n",
      "\u001b[K     |████████████████████████████████| 198 kB 57.3 MB/s \r\n",
      "\u001b[?25hBuilding wheels for collected packages: pyspark\r\n",
      "  Building wheel for pyspark (setup.py) ... \u001b[?25l-\b \b\\\b \b|\b \b/\b \b-\b \b\\\b \b|\b \b/\b \b-\b \b\\\b \b|\b \b/\b \b-\b \b\\\b \b|\b \b/\b \b-\b \b\\\b \b|\b \b/\b \b-\b \b\\\b \b|\b \b/\b \b-\b \b\\\b \b|\b \b/\b \b-\b \b\\\b \b|\b \b/\b \b-\b \b\\\b \b|\b \b/\b \b-\b \b\\\b \b|\b \b/\b \b-\b \b\\\b \b|\b \b/\b \b-\b \b\\\b \b|\b \b/\b \b-\b \b\\\b \b|\b \b/\b \bdone\r\n",
      "\u001b[?25h  Created wheel for pyspark: filename=pyspark-3.1.1-py2.py3-none-any.whl size=212767604 sha256=049c62da8599f05a2088bee8d756e3c689c17a171f9bec7946477f3ec86a197d\r\n",
      "  Stored in directory: /root/.cache/pip/wheels/43/47/42/bc413c760cf9d3f7b46ab7cd6590e8c47ebfd19a7386cd4a57\r\n",
      "Successfully built pyspark\r\n",
      "Installing collected packages: py4j, pyspark\r\n",
      "Successfully installed py4j-0.10.9 pyspark-3.1.1\r\n",
      "\u001b[33mWARNING: You are using pip version 21.0; however, version 21.1.2 is available.\r\n",
      "You should consider upgrading via the '/opt/conda/bin/python3.7 -m pip install --upgrade pip' command.\u001b[0m\r\n",
      "Requirement already satisfied: dask in /opt/conda/lib/python3.7/site-packages (2021.1.1)\r\n",
      "Requirement already satisfied: pyyaml in /opt/conda/lib/python3.7/site-packages (from dask) (5.3.1)\r\n",
      "\u001b[33mWARNING: You are using pip version 21.0; however, version 21.1.2 is available.\r\n",
      "You should consider upgrading via the '/opt/conda/bin/python3.7 -m pip install --upgrade pip' command.\u001b[0m\r\n"
     ]
    }
   ],
   "source": [
    "! pip install SpellChecker\n",
    "! pip install swifter\n",
    "!pip install pandarallel\n",
    "!pip install pyspark\n",
    "!pip install dask"
   ]
  },
  {
   "cell_type": "code",
   "execution_count": 2,
   "metadata": {
    "execution": {
     "iopub.execute_input": "2021-05-25T15:49:14.946627Z",
     "iopub.status.busy": "2021-05-25T15:49:14.945727Z",
     "iopub.status.idle": "2021-05-25T15:49:14.948299Z",
     "shell.execute_reply": "2021-05-25T15:49:14.947786Z",
     "shell.execute_reply.started": "2021-05-25T15:27:46.718617Z"
    },
    "papermill": {
     "duration": 0.126059,
     "end_time": "2021-05-25T15:49:14.948409",
     "exception": false,
     "start_time": "2021-05-25T15:49:14.822350",
     "status": "completed"
    },
    "tags": []
   },
   "outputs": [],
   "source": [
    "# if you can fix this problem that would be awesome \n",
    "#from spellchecker import SpellChecker\n",
    "\n",
    "#spell = SpellChecker(language='ar') \n",
    "#print(spell['السلام'])"
   ]
  },
  {
   "cell_type": "code",
   "execution_count": 3,
   "metadata": {
    "_cell_guid": "b1076dfc-b9ad-4769-8c92-a6c4dae69d19",
    "_uuid": "8f2839f25d086af736a60e9eeb907d3b93b6e0e5",
    "execution": {
     "iopub.execute_input": "2021-05-25T15:49:15.192803Z",
     "iopub.status.busy": "2021-05-25T15:49:15.191591Z",
     "iopub.status.idle": "2021-05-25T15:49:18.700625Z",
     "shell.execute_reply": "2021-05-25T15:49:18.700157Z",
     "shell.execute_reply.started": "2021-05-25T15:27:46.726879Z"
    },
    "papermill": {
     "duration": 3.634602,
     "end_time": "2021-05-25T15:49:18.700757",
     "exception": false,
     "start_time": "2021-05-25T15:49:15.066155",
     "status": "completed"
    },
    "tags": []
   },
   "outputs": [
    {
     "name": "stdout",
     "output_type": "stream",
     "text": [
      "/kaggle/input/whatsapp-group-chat/whatsapp_group_chat.txt\n"
     ]
    }
   ],
   "source": [
    "# This Python 3 environment comes with many helpful analytics libraries installed\n",
    "# It is defined by the kaggle/python Docker image: https://github.com/kaggle/docker-python\n",
    "# For example, here's several helpful packages to load\n",
    "\n",
    "import numpy as np # linear algebra\n",
    "import pandas as pd # data processing, CSV file I/O (e.g. pd.read_csv)\n",
    "import nltk\n",
    "from nltk.stem.isri import ISRIStemmer\n",
    "import re\n",
    "import time\n",
    "import multiprocessing as mp\n",
    "from multiprocessing import Pool\n",
    "from multiprocessing import cpu_count\n",
    "from dask import dataframe as dd\n",
    "from dask.multiprocessing import get\n",
    "import multiprocessing\n",
    "import swifter\n",
    "import threading\n",
    "# Input data files are available in the read-only \"../input/\" directory\n",
    "# For example, running this (by clicking run or pressing Shift+Enter) will list all files under the input directory\n",
    "import dask.dataframe as dd\n",
    "import os\n",
    "for dirname, _, filenames in os.walk('/kaggle/input'):\n",
    "    for filename in filenames:\n",
    "        print(os.path.join(dirname, filename))\n",
    "\n",
    "# You can write up to 20GB to the current directory (/kaggle/working/) that gets preserved as output when you create a version using \"Save & Run All\" \n",
    "# You can also write temporary files to /kaggle/temp/, but they won't be saved outside of the current session"
   ]
  },
  {
   "cell_type": "code",
   "execution_count": 4,
   "metadata": {
    "execution": {
     "iopub.execute_input": "2021-05-25T15:49:18.960353Z",
     "iopub.status.busy": "2021-05-25T15:49:18.959343Z",
     "iopub.status.idle": "2021-05-25T15:49:18.962089Z",
     "shell.execute_reply": "2021-05-25T15:49:18.961668Z",
     "shell.execute_reply.started": "2021-05-25T15:27:50.860951Z"
    },
    "papermill": {
     "duration": 0.143247,
     "end_time": "2021-05-25T15:49:18.962211",
     "exception": false,
     "start_time": "2021-05-25T15:49:18.818964",
     "status": "completed"
    },
    "tags": []
   },
   "outputs": [],
   "source": [
    "#######All the Function used to read the data, clean and pre-process it\n",
    "st = ISRIStemmer() #Arabic stemmer\n",
    "directory = \"../input/whatsapp-group-chat/whatsapp_group_chat.txt\"\n",
    "\n",
    "#Reading Data\n",
    "def read_data(file_directory):\n",
    "    f = open(file_directory, \"r\")\n",
    "    list_of_lists = []  \n",
    "    for line in f:\n",
    "      stripped_line = line.strip()\n",
    "      line_list = stripped_line.split(\"-\")\n",
    "      list_of_lists.append(line_list)   \n",
    "    list_of_lists.pop(0)\n",
    "    f.close() \n",
    "    return list_of_lists\n",
    "\n",
    "# turning it into a DataFrame\n",
    "def pre(listoflists):\n",
    "    df = pd.DataFrame(listoflists)\n",
    "    df = df[[0, 1]]\n",
    "    df = df.rename(columns={0: \"Date\", 1: \"Chat\"}, errors=\"raise\")\n",
    "    df.Chat = df.Chat.str.replace(\"[<@*&?].*[>@*&?]\", \"\")\n",
    "    df.Chat = df.Chat.str.replace(r'^.*?:', '') \n",
    "    df = df[df['Chat'] != ' '] #after the step above some cells ended having only void space\n",
    "    #df.Chat = df.Chat.str.replace('5', 'kh')\n",
    "    #df.Chat = df.Chat.str.replace('2', 'q')\n",
    "    #df.Chat = df.Chat.str.replace('3', 'a') # I found that google translates 3 correctly to ع\n",
    "    #df.Chat = df.Chat.str.replace('7', 'h')\n",
    "    df.dropna(how = 'all', inplace=True) \n",
    "    return df\n",
    "\n",
    "###Pre-Processing 101\n",
    "#Removing Special Character\n",
    "def remove_special(s):\n",
    "    x = re.sub(\"[^0-9a-zA-Z]\"r\" \", s)\n",
    "    x = re.sub(r'^\\s*$', np.nan, s)\n",
    "    return x\n",
    "\n",
    "#processing 2-gram letters\n",
    "# this function should be updated because it  takes only the first letter and change it to the assigned value\n",
    "def duos(c):\n",
    "    newstr = c\n",
    "    sh = (\"sh\")\n",
    "    kh = (\"kh\")\n",
    "    for x in c:\n",
    "        if x in sh:\n",
    "            newstr = newstr.replace(x,\"$\")\n",
    "        if x in kh:\n",
    "            newstr = newstr.replace(x,\"5\")\n",
    "    return newstr\n",
    "\n",
    "#Removing Vowels\n",
    "def anti_vowel(c):\n",
    "    newstr = c\n",
    "    vowels = ('ا', 'ي', 'و')    \n",
    "    for x in c:\n",
    "        if x in vowels:\n",
    "            newstr = newstr.replace(x,\"\")\n",
    "    return newstr\n",
    "\n",
    "#Removing Diacritic\n",
    "def deNoise(text):\n",
    "    text = str(text)\n",
    "    noise = re.compile(\"\"\" ّ    | # Tashdid\n",
    "                             َ    | # Fatha\n",
    "                             ً    | # Tanwin Fath\n",
    "                             ُ    | # Damma\n",
    "                             ٌ    | # Tanwin Damm\n",
    "                             ِ    | # Kasra\n",
    "                             ٍ    | # Tanwin Kasr\n",
    "                             ْ    | # Sukun\n",
    "                             ـ     # Tatwil/Kashida\n",
    "                         \"\"\", re.VERBOSE)\n",
    "    text = re.sub(noise, '', str(text))\n",
    "    return text\n",
    "\n",
    "#Letters Conversion\n",
    "def transString(string, reverse=1):\n",
    "    buck2uni = {\"'\":\"ء\", \"|\":\"آ\", \"?\":\"أ\", \"&\":\"ؤ\", \"<\":\"إ\", \"}\":\"ئ\", \"A\":\"ا\", \"b\":\"ب\",\n",
    "                \"p\":\"ة\", \"t\":\"ت\", \"v\":\"ث\", \"g\":\"ج\", \"H\":\"ح\", \"x\":\"خ\", \"d\":\"د\", \"*\":\"ذ\",\n",
    "                \"r\":\"ر\", \"z\":\"ز\", \"s\":\"س\", \"$\":\"ش\", \"S\":\"ص\", \"D\":\"ض\", \"T\":\"ط\", \"Z\":\"ظ\",\n",
    "                \"E\":\"ع\", \"G\":\"غ\", \"_\":\"ـ\", \"f\":\"ف\", \"q\":\"ق\", \"k\":\"ك\", \"l\":\"ل\", \"m\":\"م\", \"n\":\"ن\",\n",
    "                \"h\":\"ه\", \"w\":\"و\", \"Y\":\"ى\", \"y\":\"ي\", \"F\":\"ً\", \"N\":\"ٌ\", \"K\":\"ٍ\", \"~\":\"ّ\", \"o\":\"ْ\", \"u\":\"ُ\",\n",
    "                \"a\":\"َا\", \"i\":\"ِ\",\n",
    "                \"e\":\"ا\",\n",
    "               \"2\":\"ق\",\n",
    "               \"3\":\"ع\",\n",
    "                \"4\":\"ش\",\n",
    "               \"5\":\"خ\",\n",
    "               \"7\":\"ح\",\n",
    "               \"c\":\"\"}    \n",
    "    for k, v in buck2uni.items():\n",
    "        if not reverse:\n",
    "            string = string.replace(v, k)\n",
    "        else:\n",
    "            string = string.replace(k, v)\n",
    "    return string\n"
   ]
  },
  {
   "cell_type": "markdown",
   "metadata": {
    "papermill": {
     "duration": 0.119913,
     "end_time": "2021-05-25T15:49:19.201348",
     "exception": false,
     "start_time": "2021-05-25T15:49:19.081435",
     "status": "completed"
    },
    "tags": []
   },
   "source": [
    "# Using only apply function"
   ]
  },
  {
   "cell_type": "code",
   "execution_count": 5,
   "metadata": {
    "execution": {
     "iopub.execute_input": "2021-05-25T15:49:19.442890Z",
     "iopub.status.busy": "2021-05-25T15:49:19.442256Z",
     "iopub.status.idle": "2021-05-25T15:49:41.854038Z",
     "shell.execute_reply": "2021-05-25T15:49:41.853571Z"
    },
    "papermill": {
     "duration": 22.533857,
     "end_time": "2021-05-25T15:49:41.854170",
     "exception": false,
     "start_time": "2021-05-25T15:49:19.320313",
     "status": "completed"
    },
    "tags": []
   },
   "outputs": [],
   "source": [
    "#Read Data and insert into DF\n",
    "whatsapp_chat = pre(read_data(directory))\n",
    "whatsapp_chat_20 = whatsapp_chat[:20]\n",
    "#whatsapp_chat_20"
   ]
  },
  {
   "cell_type": "code",
   "execution_count": 6,
   "metadata": {
    "execution": {
     "iopub.execute_input": "2021-05-25T15:49:42.337445Z",
     "iopub.status.busy": "2021-05-25T15:49:42.335927Z",
     "iopub.status.idle": "2021-05-25T15:51:21.475322Z",
     "shell.execute_reply": "2021-05-25T15:51:21.476476Z",
     "shell.execute_reply.started": "2021-05-25T15:32:53.845480Z"
    },
    "papermill": {
     "duration": 99.502542,
     "end_time": "2021-05-25T15:51:21.476727",
     "exception": false,
     "start_time": "2021-05-25T15:49:41.974185",
     "status": "completed"
    },
    "tags": []
   },
   "outputs": [
    {
     "name": "stdout",
     "output_type": "stream",
     "text": [
      "0             خمل رتد جرة \"برث عل ðÿ“مخ\"\n",
      "1                                   ر ددد\n",
      "2                    لل مزج جب نزل بدر قل\n",
      "3      منت ل بتبرد تزخ شش مخنشش جلخ ل مزق\n",
      "8                        ðÿ˜‚ðÿ˜‚ðÿ˜‚ðÿ˜‚\n",
      "9                                 نزلن مت\n",
      "10                ن حتم شنجب خل نتلع عل ش\n",
      "11                      خ ن شخل نزل عل تل\n",
      "12                                      خ\n",
      "13                           ن شت مل نشرد\n",
      "Name: Chat, dtype: object\n",
      "The runtime without multiprocess is 99.25428009033203 seconds\n"
     ]
    }
   ],
   "source": [
    "start_time = time.time()\n",
    "whatsapp_chat['Chat'] = whatsapp_chat['Chat'].str.lower()\n",
    "whatsapp_chat = whatsapp_chat.dropna()\n",
    "whatsapp_chat['Chat'] = whatsapp_chat['Chat'].apply(duos)\n",
    "whatsapp_chat['Chat'] = whatsapp_chat['Chat'].apply(transString)\n",
    "whatsapp_chat['Chat'] = whatsapp_chat['Chat'].apply(deNoise)\n",
    "whatsapp_chat['Chat'] = whatsapp_chat['Chat'].apply(st.stem)\n",
    "whatsapp_chat['Chat'] = whatsapp_chat['Chat'].apply(anti_vowel)\n",
    "print(whatsapp_chat['Chat'][:10])\n",
    "end_time = time.time()\n",
    "time_elapsed = end_time-start_time\n",
    "print('The runtime without multiprocess is %s seconds' %(time_elapsed))"
   ]
  },
  {
   "cell_type": "markdown",
   "metadata": {
    "papermill": {
     "duration": 0.116851,
     "end_time": "2021-05-25T15:51:21.711691",
     "exception": false,
     "start_time": "2021-05-25T15:51:21.594840",
     "status": "completed"
    },
    "tags": []
   },
   "source": [
    "# 0.Pandas with Lambda function"
   ]
  },
  {
   "cell_type": "code",
   "execution_count": 7,
   "metadata": {
    "execution": {
     "iopub.execute_input": "2021-05-25T15:51:21.950003Z",
     "iopub.status.busy": "2021-05-25T15:51:21.949432Z",
     "iopub.status.idle": "2021-05-25T15:51:45.297373Z",
     "shell.execute_reply": "2021-05-25T15:51:45.296925Z",
     "shell.execute_reply.started": "2021-05-25T15:27:50.882789Z"
    },
    "papermill": {
     "duration": 23.469376,
     "end_time": "2021-05-25T15:51:45.297517",
     "exception": false,
     "start_time": "2021-05-25T15:51:21.828141",
     "status": "completed"
    },
    "tags": []
   },
   "outputs": [],
   "source": [
    "#Read Data and insert into DF\n",
    "whatsapp_chat = pre(read_data(directory))\n",
    "whatsapp_chat_20 = whatsapp_chat[:20]\n",
    "#whatsapp_chat_20"
   ]
  },
  {
   "cell_type": "code",
   "execution_count": 8,
   "metadata": {
    "execution": {
     "iopub.execute_input": "2021-05-25T15:51:45.536883Z",
     "iopub.status.busy": "2021-05-25T15:51:45.536188Z",
     "iopub.status.idle": "2021-05-25T15:51:45.539244Z",
     "shell.execute_reply": "2021-05-25T15:51:45.538811Z",
     "shell.execute_reply.started": "2021-05-25T15:34:47.672754Z"
    },
    "papermill": {
     "duration": 0.123839,
     "end_time": "2021-05-25T15:51:45.539365",
     "exception": false,
     "start_time": "2021-05-25T15:51:45.415526",
     "status": "completed"
    },
    "tags": []
   },
   "outputs": [],
   "source": [
    "def all_in_one(df):\n",
    "    df['Chat'] = df['Chat'].dropna().apply(lambda x:anti_vowel(st.stem(deNoise(transString(duos(x).lower(), reverse = 1)))))\n",
    "    return df#.dropna(how = 'any', axis = 0, inplace = True)\n"
   ]
  },
  {
   "cell_type": "code",
   "execution_count": 9,
   "metadata": {
    "execution": {
     "iopub.execute_input": "2021-05-25T15:51:46.013182Z",
     "iopub.status.busy": "2021-05-25T15:51:46.011700Z",
     "iopub.status.idle": "2021-05-25T15:53:26.418791Z",
     "shell.execute_reply": "2021-05-25T15:53:26.419428Z",
     "shell.execute_reply.started": "2021-05-25T15:34:47.853357Z"
    },
    "papermill": {
     "duration": 100.76571,
     "end_time": "2021-05-25T15:53:26.419640",
     "exception": false,
     "start_time": "2021-05-25T15:51:45.653930",
     "status": "completed"
    },
    "tags": []
   },
   "outputs": [
    {
     "name": "stdout",
     "output_type": "stream",
     "text": [
      "                  Date                                 Chat\n",
      "0   12/26/18, 9:57 AM           كمل رتد جرة \"برث عل ðÿ“مخ\"\n",
      "1   12/26/18, 9:57 AM                                 ر ددد\n",
      "2    10/2/20, 4:15 AM                  لل مزج جب نزل بدر قل\n",
      "3    10/2/20, 4:24 AM    منت ل بتبرد تزخ شش مخنشش جلخ ل مزق\n",
      "8    10/2/20, 7:21 AM                      ðÿ˜‚ðÿ˜‚ðÿ˜‚ðÿ˜‚\n",
      "9    10/2/20, 8:56 AM                               نزلن مت\n",
      "10   10/2/20, 8:56 AM               ن حتم شنجب خل نتلع عل ش\n",
      "11   10/2/20, 8:57 AM                     خ ن شخل نزل عل تل\n",
      "12   10/2/20, 8:57 AM                                     خ\n",
      "13   10/2/20, 9:06 AM                          ن شت مل نشرد\n",
      "The runtime without multiprocess is 100.52184438705444 seconds\n"
     ]
    }
   ],
   "source": [
    "start_time = time.time()\n",
    "Chat = all_in_one(whatsapp_chat)\n",
    "print(Chat[:10])\n",
    "end_time = time.time()\n",
    "time_elapsed = end_time-start_time\n",
    "print('The runtime without multiprocess is %s seconds' %(time_elapsed))"
   ]
  },
  {
   "cell_type": "markdown",
   "metadata": {
    "papermill": {
     "duration": 0.117664,
     "end_time": "2021-05-25T15:53:26.655216",
     "exception": false,
     "start_time": "2021-05-25T15:53:26.537552",
     "status": "completed"
    },
    "tags": []
   },
   "source": [
    "# 1.Multiprocessing "
   ]
  },
  {
   "cell_type": "code",
   "execution_count": 10,
   "metadata": {
    "execution": {
     "iopub.execute_input": "2021-05-25T15:53:26.901886Z",
     "iopub.status.busy": "2021-05-25T15:53:26.901326Z",
     "iopub.status.idle": "2021-05-25T15:53:49.443572Z",
     "shell.execute_reply": "2021-05-25T15:53:49.443087Z"
    },
    "papermill": {
     "duration": 22.663364,
     "end_time": "2021-05-25T15:53:49.443709",
     "exception": false,
     "start_time": "2021-05-25T15:53:26.780345",
     "status": "completed"
    },
    "tags": []
   },
   "outputs": [],
   "source": [
    "whatsapp_chat = pre(read_data(directory))\n",
    "whatsapp_chat_20 = whatsapp_chat[:20]"
   ]
  },
  {
   "cell_type": "code",
   "execution_count": 11,
   "metadata": {
    "execution": {
     "iopub.execute_input": "2021-05-25T15:53:49.688807Z",
     "iopub.status.busy": "2021-05-25T15:53:49.687913Z",
     "iopub.status.idle": "2021-05-25T15:53:49.690044Z",
     "shell.execute_reply": "2021-05-25T15:53:49.690414Z"
    },
    "papermill": {
     "duration": 0.127039,
     "end_time": "2021-05-25T15:53:49.690565",
     "exception": false,
     "start_time": "2021-05-25T15:53:49.563526",
     "status": "completed"
    },
    "tags": []
   },
   "outputs": [],
   "source": [
    "cores = cpu_count() #Gets number of CPU cores on your machine\n",
    "partitions = cores #Define number of partitions\n",
    "\n",
    "def parallelize(df, func):\n",
    "    df_split = np.array_split(df, partitions)\n",
    "    pool = Pool(cores)\n",
    "    df = pd.concat(pool.map(func, df_split))\n",
    "    pool.close()\n",
    "    pool.join()\n",
    "    return df\n"
   ]
  },
  {
   "cell_type": "code",
   "execution_count": 12,
   "metadata": {
    "execution": {
     "iopub.execute_input": "2021-05-25T15:53:49.930234Z",
     "iopub.status.busy": "2021-05-25T15:53:49.929229Z",
     "iopub.status.idle": "2021-05-25T15:55:27.707127Z",
     "shell.execute_reply": "2021-05-25T15:55:27.707836Z"
    },
    "papermill": {
     "duration": 97.901476,
     "end_time": "2021-05-25T15:55:27.708046",
     "exception": false,
     "start_time": "2021-05-25T15:53:49.806570",
     "status": "completed"
    },
    "tags": []
   },
   "outputs": [
    {
     "name": "stdout",
     "output_type": "stream",
     "text": [
      "                  Date                                 Chat\n",
      "0   12/26/18, 9:57 AM           كمل رتد جرة \"برث عل ðÿ“مخ\"\n",
      "1   12/26/18, 9:57 AM                                 ر ددد\n",
      "2    10/2/20, 4:15 AM                  لل مزج جب نزل بدر قل\n",
      "3    10/2/20, 4:24 AM    منت ل بتبرد تزخ شش مخنشش جلخ ل مزق\n",
      "8    10/2/20, 7:21 AM                      ðÿ˜‚ðÿ˜‚ðÿ˜‚ðÿ˜‚\n",
      "9    10/2/20, 8:56 AM                               نزلن مت\n",
      "10   10/2/20, 8:56 AM               ن حتم شنجب خل نتلع عل ش\n",
      "11   10/2/20, 8:57 AM                     خ ن شخل نزل عل تل\n",
      "12   10/2/20, 8:57 AM                                     خ\n",
      "13   10/2/20, 9:06 AM                          ن شت مل نشرد\n",
      "The runtime with multiprocess is 97.65180802345276 seconds\n"
     ]
    }
   ],
   "source": [
    "start_time = time.time()\n",
    "Chat = parallelize(whatsapp_chat, all_in_one)\n",
    "end_time = time.time()\n",
    "print(Chat[:10])\n",
    "time_elapsed = end_time-start_time\n",
    "print('The runtime with multiprocess is %s seconds' %(time_elapsed))"
   ]
  },
  {
   "cell_type": "markdown",
   "metadata": {
    "papermill": {
     "duration": 0.118018,
     "end_time": "2021-05-25T15:55:27.944595",
     "exception": false,
     "start_time": "2021-05-25T15:55:27.826577",
     "status": "completed"
    },
    "tags": []
   },
   "source": [
    "# 2.Pandarallel"
   ]
  },
  {
   "cell_type": "code",
   "execution_count": 13,
   "metadata": {
    "execution": {
     "iopub.execute_input": "2021-05-25T15:55:28.185868Z",
     "iopub.status.busy": "2021-05-25T15:55:28.185322Z",
     "iopub.status.idle": "2021-05-25T15:55:51.695181Z",
     "shell.execute_reply": "2021-05-25T15:55:51.694714Z"
    },
    "papermill": {
     "duration": 23.630497,
     "end_time": "2021-05-25T15:55:51.695308",
     "exception": false,
     "start_time": "2021-05-25T15:55:28.064811",
     "status": "completed"
    },
    "tags": []
   },
   "outputs": [],
   "source": [
    "whatsapp_chat = pre(read_data(directory))\n",
    "whatsapp_chat_20 = whatsapp_chat[:20]"
   ]
  },
  {
   "cell_type": "code",
   "execution_count": 14,
   "metadata": {
    "execution": {
     "iopub.execute_input": "2021-05-25T15:55:52.019768Z",
     "iopub.status.busy": "2021-05-25T15:55:52.018578Z",
     "iopub.status.idle": "2021-05-25T15:57:54.461054Z",
     "shell.execute_reply": "2021-05-25T15:57:54.461639Z"
    },
    "papermill": {
     "duration": 122.640548,
     "end_time": "2021-05-25T15:57:54.461903",
     "exception": false,
     "start_time": "2021-05-25T15:55:51.821355",
     "status": "completed"
    },
    "tags": []
   },
   "outputs": [
    {
     "name": "stdout",
     "output_type": "stream",
     "text": [
      "INFO: Pandarallel will run on 4 workers.\n",
      "INFO: Pandarallel will use Memory file system to transfer data between the main process and workers.\n",
      "INFO: Pandarallel will run on 4 workers.\n",
      "INFO: Pandarallel will use Memory file system to transfer data between the main process and workers.\n",
      "INFO: Pandarallel will run on 4 workers.\n",
      "INFO: Pandarallel will use Memory file system to transfer data between the main process and workers.\n",
      "INFO: Pandarallel will run on 4 workers.\n",
      "INFO: Pandarallel will use Memory file system to transfer data between the main process and workers.\n",
      "INFO: Pandarallel will run on 4 workers.\n",
      "INFO: Pandarallel will use Memory file system to transfer data between the main process and workers.\n",
      "                  Date                                 Chat\n",
      "0   12/26/18, 9:57 AM           خمل رتد جرة \"برث عل ðÿ“مخ\"\n",
      "1   12/26/18, 9:57 AM                                 ر ددد\n",
      "2    10/2/20, 4:15 AM                  لل مزج جب نزل بدر قل\n",
      "3    10/2/20, 4:24 AM    منت ل بتبرد تزخ شش مخنشش جلخ ل مزق\n",
      "8    10/2/20, 7:21 AM                      ðÿ˜‚ðÿ˜‚ðÿ˜‚ðÿ˜‚\n",
      "9    10/2/20, 8:56 AM                               نزلن مت\n",
      "10   10/2/20, 8:56 AM               ن حتم شنجب خل نتلع عل ش\n",
      "11   10/2/20, 8:57 AM                     خ ن شخل نزل عل تل\n",
      "12   10/2/20, 8:57 AM                                     خ\n",
      "13   10/2/20, 9:06 AM                          ن شت مل نشرد\n",
      "The runtime with multiprocess is 122.50600981712341 seconds\n"
     ]
    }
   ],
   "source": [
    "start_time = time.time()\n",
    "from pandarallel import pandarallel\n",
    "whatsapp_chat['Chat'] = whatsapp_chat['Chat'].str.lower()\n",
    "whatsapp_chat = whatsapp_chat.dropna()\n",
    "pandarallel.initialize(nb_workers=4)\n",
    "whatsapp_chat['Chat'] = whatsapp_chat['Chat'].parallel_apply(duos)\n",
    "pandarallel.initialize(nb_workers=4)\n",
    "whatsapp_chat['Chat'] = whatsapp_chat['Chat'].parallel_apply(transString)\n",
    "pandarallel.initialize(nb_workers=4)\n",
    "whatsapp_chat['Chat'] = whatsapp_chat['Chat'].parallel_apply(deNoise)\n",
    "pandarallel.initialize(nb_workers=4)\n",
    "whatsapp_chat['Chat'] = whatsapp_chat['Chat'].parallel_apply(st.stem)\n",
    "pandarallel.initialize(nb_workers=4)\n",
    "whatsapp_chat['Chat'] = whatsapp_chat['Chat'].parallel_apply(anti_vowel)\n",
    "end_time = time.time()\n",
    "print(whatsapp_chat[:10])\n",
    "time_elapsed = end_time-start_time\n",
    "print('The runtime with multiprocess is %s seconds' %(time_elapsed))"
   ]
  },
  {
   "cell_type": "markdown",
   "metadata": {
    "papermill": {
     "duration": 0.119413,
     "end_time": "2021-05-25T15:57:54.702864",
     "exception": false,
     "start_time": "2021-05-25T15:57:54.583451",
     "status": "completed"
    },
    "tags": []
   },
   "source": [
    "# 3.Multiprocess and Pool"
   ]
  },
  {
   "cell_type": "code",
   "execution_count": 15,
   "metadata": {
    "execution": {
     "iopub.execute_input": "2021-05-25T15:57:54.945801Z",
     "iopub.status.busy": "2021-05-25T15:57:54.945217Z",
     "iopub.status.idle": "2021-05-25T15:58:19.691944Z",
     "shell.execute_reply": "2021-05-25T15:58:19.691406Z",
     "shell.execute_reply.started": "2021-05-25T15:42:36.491662Z"
    },
    "papermill": {
     "duration": 24.870484,
     "end_time": "2021-05-25T15:58:19.692088",
     "exception": false,
     "start_time": "2021-05-25T15:57:54.821604",
     "status": "completed"
    },
    "tags": []
   },
   "outputs": [],
   "source": [
    "whatsapp_chat = pre(read_data(directory))\n",
    "whatsapp_chat_20 = whatsapp_chat[:20]"
   ]
  },
  {
   "cell_type": "code",
   "execution_count": 16,
   "metadata": {
    "execution": {
     "iopub.execute_input": "2021-05-25T15:58:19.935934Z",
     "iopub.status.busy": "2021-05-25T15:58:19.934098Z",
     "iopub.status.idle": "2021-05-25T15:58:19.936489Z",
     "shell.execute_reply": "2021-05-25T15:58:19.936912Z",
     "shell.execute_reply.started": "2021-05-25T15:42:57.988809Z"
    },
    "papermill": {
     "duration": 0.125931,
     "end_time": "2021-05-25T15:58:19.937048",
     "exception": false,
     "start_time": "2021-05-25T15:58:19.811117",
     "status": "completed"
    },
    "tags": []
   },
   "outputs": [],
   "source": [
    "num_partitions = 10 #number of partitions to split dataframe\n",
    "num_cores = 6 #number of cores on your machine\n",
    "\n",
    "def parallelize_dataframe(df, func):\n",
    "    df_split = np.array_split(df, num_partitions)\n",
    "    pool = Pool(num_cores)\n",
    "    df = pd.concat(pool.map(func, df_split))\n",
    "    pool.close()\n",
    "    pool.join()\n",
    "    return df"
   ]
  },
  {
   "cell_type": "code",
   "execution_count": 17,
   "metadata": {
    "execution": {
     "iopub.execute_input": "2021-05-25T15:58:20.181370Z",
     "iopub.status.busy": "2021-05-25T15:58:20.179899Z",
     "iopub.status.idle": "2021-05-25T15:59:57.047985Z",
     "shell.execute_reply": "2021-05-25T15:59:57.048453Z",
     "shell.execute_reply.started": "2021-05-25T15:46:08.343014Z"
    },
    "papermill": {
     "duration": 96.994075,
     "end_time": "2021-05-25T15:59:57.048667",
     "exception": false,
     "start_time": "2021-05-25T15:58:20.054592",
     "status": "completed"
    },
    "tags": []
   },
   "outputs": [
    {
     "name": "stdout",
     "output_type": "stream",
     "text": [
      "                  Date                                 Chat\n",
      "0   12/26/18, 9:57 AM           كمل رتد جرة \"برث عل ðÿ“مخ\"\n",
      "1   12/26/18, 9:57 AM                                 ر ددد\n",
      "2    10/2/20, 4:15 AM                  لل مزج جب نزل بدر قل\n",
      "3    10/2/20, 4:24 AM    منت ل بتبرد تزخ شش مخنشش جلخ ل مزق\n",
      "8    10/2/20, 7:21 AM                      ðÿ˜‚ðÿ˜‚ðÿ˜‚ðÿ˜‚\n",
      "9    10/2/20, 8:56 AM                               نزلن مت\n",
      "10   10/2/20, 8:56 AM               ن حتم شنجب خل نتلع عل ش\n",
      "11   10/2/20, 8:57 AM                     خ ن شخل نزل عل تل\n",
      "12   10/2/20, 8:57 AM                                     خ\n",
      "13   10/2/20, 9:06 AM                          ن شت مل نشرد\n",
      "The runtime with multiprocess and pool is 96.74182605743408 seconds\n"
     ]
    }
   ],
   "source": [
    "start_time = time.time()\n",
    "paraller = parallelize_dataframe(whatsapp_chat, all_in_one)\n",
    "end_time = time.time()\n",
    "print(paraller[:10])\n",
    "time_elapsed = end_time-start_time\n",
    "print('The runtime with multiprocess and pool is %s seconds' %(time_elapsed))"
   ]
  },
  {
   "cell_type": "markdown",
   "metadata": {
    "papermill": {
     "duration": 0.123209,
     "end_time": "2021-05-25T15:59:57.293121",
     "exception": false,
     "start_time": "2021-05-25T15:59:57.169912",
     "status": "completed"
    },
    "tags": []
   },
   "source": [
    "# 4.Swifter"
   ]
  },
  {
   "cell_type": "code",
   "execution_count": 18,
   "metadata": {
    "execution": {
     "iopub.execute_input": "2021-05-25T15:59:57.553202Z",
     "iopub.status.busy": "2021-05-25T15:59:57.552583Z",
     "iopub.status.idle": "2021-05-25T16:00:20.537921Z",
     "shell.execute_reply": "2021-05-25T16:00:20.537438Z"
    },
    "papermill": {
     "duration": 23.112173,
     "end_time": "2021-05-25T16:00:20.538054",
     "exception": false,
     "start_time": "2021-05-25T15:59:57.425881",
     "status": "completed"
    },
    "tags": []
   },
   "outputs": [],
   "source": [
    "whatsapp_chat = pre(read_data(directory))\n",
    "whatsapp_chat_20 = whatsapp_chat[:20]"
   ]
  },
  {
   "cell_type": "code",
   "execution_count": 19,
   "metadata": {
    "execution": {
     "iopub.execute_input": "2021-05-25T16:00:21.333759Z",
     "iopub.status.busy": "2021-05-25T16:00:21.332419Z",
     "iopub.status.idle": "2021-05-25T16:02:14.039230Z",
     "shell.execute_reply": "2021-05-25T16:02:14.038616Z"
    },
    "papermill": {
     "duration": 113.381579,
     "end_time": "2021-05-25T16:02:14.039400",
     "exception": false,
     "start_time": "2021-05-25T16:00:20.657821",
     "status": "completed"
    },
    "tags": []
   },
   "outputs": [
    {
     "data": {
      "application/vnd.jupyter.widget-view+json": {
       "model_id": "3d179149c1944243917857bcef061192",
       "version_major": 2,
       "version_minor": 0
      },
      "text/plain": [
       "Pandas Apply:   0%|          | 0/2903111 [00:00<?, ?it/s]"
      ]
     },
     "metadata": {},
     "output_type": "display_data"
    },
    {
     "name": "stdout",
     "output_type": "stream",
     "text": [
      "                  Date                                 Chat\n",
      "0   12/26/18, 9:57 AM           كمل رتد جرة \"برث عل ðÿ“مخ\"\n",
      "1   12/26/18, 9:57 AM                                 ر ددد\n",
      "2    10/2/20, 4:15 AM                  لل مزج جب نزل بدر قل\n",
      "3    10/2/20, 4:24 AM    منت ل بتبرد تزخ شش مخنشش جلخ ل مزق\n",
      "8    10/2/20, 7:21 AM                      ðÿ˜‚ðÿ˜‚ðÿ˜‚ðÿ˜‚\n",
      "9    10/2/20, 8:56 AM                               نزلن مت\n",
      "10   10/2/20, 8:56 AM               ن حتم شنجب خل نتلع عل ش\n",
      "11   10/2/20, 8:57 AM                     خ ن شخل نزل عل تل\n",
      "12   10/2/20, 8:57 AM                                     خ\n",
      "13   10/2/20, 9:06 AM                          ن شت مل نشرد\n",
      "The runtime with multiprocess and pool is 113.24881100654602 seconds\n"
     ]
    },
    {
     "name": "stderr",
     "output_type": "stream",
     "text": [
      "/opt/conda/lib/python3.7/site-packages/ipykernel_launcher.py:3: SettingWithCopyWarning: \n",
      "A value is trying to be set on a copy of a slice from a DataFrame.\n",
      "Try using .loc[row_indexer,col_indexer] = value instead\n",
      "\n",
      "See the caveats in the documentation: https://pandas.pydata.org/pandas-docs/stable/user_guide/indexing.html#returning-a-view-versus-a-copy\n",
      "  This is separate from the ipykernel package so we can avoid doing imports until\n"
     ]
    }
   ],
   "source": [
    "start_time = time.time()\n",
    "df = whatsapp_chat.dropna()\n",
    "df['Chat'] = df['Chat'].swifter.apply(lambda x:anti_vowel(st.stem(deNoise(transString(duos(x).lower(), reverse = 1)))))\n",
    "end_time = time.time()\n",
    "print(df[:10])\n",
    "time_elapsed = end_time-start_time\n",
    "print('The runtime with multiprocess and pool is %s seconds' %(time_elapsed))\n"
   ]
  }
 ],
 "metadata": {
  "kernelspec": {
   "display_name": "Python 3",
   "language": "python",
   "name": "python3"
  },
  "language_info": {
   "codemirror_mode": {
    "name": "ipython",
    "version": 3
   },
   "file_extension": ".py",
   "mimetype": "text/x-python",
   "name": "python",
   "nbconvert_exporter": "python",
   "pygments_lexer": "ipython3",
   "version": "3.7.9"
  },
  "papermill": {
   "default_parameters": {},
   "duration": 877.135346,
   "end_time": "2021-05-25T16:02:16.377091",
   "environment_variables": {},
   "exception": null,
   "input_path": "__notebook__.ipynb",
   "output_path": "__notebook__.ipynb",
   "parameters": {},
   "start_time": "2021-05-25T15:47:39.241745",
   "version": "2.2.2"
  },
  "widgets": {
   "application/vnd.jupyter.widget-state+json": {
    "state": {
     "015b7a6b776f4f45a1a1f908ac8d6510": {
      "model_module": "@jupyter-widgets/controls",
      "model_module_version": "1.5.0",
      "model_name": "ProgressStyleModel",
      "state": {
       "_model_module": "@jupyter-widgets/controls",
       "_model_module_version": "1.5.0",
       "_model_name": "ProgressStyleModel",
       "_view_count": null,
       "_view_module": "@jupyter-widgets/base",
       "_view_module_version": "1.2.0",
       "_view_name": "StyleView",
       "bar_color": null,
       "description_width": ""
      }
     },
     "1dbf42ec30b048a9a429de60d71df6d9": {
      "model_module": "@jupyter-widgets/controls",
      "model_module_version": "1.5.0",
      "model_name": "HTMLModel",
      "state": {
       "_dom_classes": [],
       "_model_module": "@jupyter-widgets/controls",
       "_model_module_version": "1.5.0",
       "_model_name": "HTMLModel",
       "_view_count": null,
       "_view_module": "@jupyter-widgets/controls",
       "_view_module_version": "1.5.0",
       "_view_name": "HTMLView",
       "description": "",
       "description_tooltip": null,
       "layout": "IPY_MODEL_44dae4b07e1d445a9e876a924c5ff5eb",
       "placeholder": "​",
       "style": "IPY_MODEL_a53d044b057843299563266c6a6e92fe",
       "value": " 2903111/2903111 [01:52&lt;00:00, 27185.96it/s]"
      }
     },
     "380d62ef869e465a9665f58c8e30aee1": {
      "model_module": "@jupyter-widgets/base",
      "model_module_version": "1.2.0",
      "model_name": "LayoutModel",
      "state": {
       "_model_module": "@jupyter-widgets/base",
       "_model_module_version": "1.2.0",
       "_model_name": "LayoutModel",
       "_view_count": null,
       "_view_module": "@jupyter-widgets/base",
       "_view_module_version": "1.2.0",
       "_view_name": "LayoutView",
       "align_content": null,
       "align_items": null,
       "align_self": null,
       "border": null,
       "bottom": null,
       "display": null,
       "flex": null,
       "flex_flow": null,
       "grid_area": null,
       "grid_auto_columns": null,
       "grid_auto_flow": null,
       "grid_auto_rows": null,
       "grid_column": null,
       "grid_gap": null,
       "grid_row": null,
       "grid_template_areas": null,
       "grid_template_columns": null,
       "grid_template_rows": null,
       "height": null,
       "justify_content": null,
       "justify_items": null,
       "left": null,
       "margin": null,
       "max_height": null,
       "max_width": null,
       "min_height": null,
       "min_width": null,
       "object_fit": null,
       "object_position": null,
       "order": null,
       "overflow": null,
       "overflow_x": null,
       "overflow_y": null,
       "padding": null,
       "right": null,
       "top": null,
       "visibility": null,
       "width": null
      }
     },
     "3d179149c1944243917857bcef061192": {
      "model_module": "@jupyter-widgets/controls",
      "model_module_version": "1.5.0",
      "model_name": "HBoxModel",
      "state": {
       "_dom_classes": [],
       "_model_module": "@jupyter-widgets/controls",
       "_model_module_version": "1.5.0",
       "_model_name": "HBoxModel",
       "_view_count": null,
       "_view_module": "@jupyter-widgets/controls",
       "_view_module_version": "1.5.0",
       "_view_name": "HBoxView",
       "box_style": "",
       "children": [
        "IPY_MODEL_4735c839d665491da1b0bd40c3211495",
        "IPY_MODEL_4eca7e6f11f348eea981e55f130969fe",
        "IPY_MODEL_1dbf42ec30b048a9a429de60d71df6d9"
       ],
       "layout": "IPY_MODEL_380d62ef869e465a9665f58c8e30aee1"
      }
     },
     "44dae4b07e1d445a9e876a924c5ff5eb": {
      "model_module": "@jupyter-widgets/base",
      "model_module_version": "1.2.0",
      "model_name": "LayoutModel",
      "state": {
       "_model_module": "@jupyter-widgets/base",
       "_model_module_version": "1.2.0",
       "_model_name": "LayoutModel",
       "_view_count": null,
       "_view_module": "@jupyter-widgets/base",
       "_view_module_version": "1.2.0",
       "_view_name": "LayoutView",
       "align_content": null,
       "align_items": null,
       "align_self": null,
       "border": null,
       "bottom": null,
       "display": null,
       "flex": null,
       "flex_flow": null,
       "grid_area": null,
       "grid_auto_columns": null,
       "grid_auto_flow": null,
       "grid_auto_rows": null,
       "grid_column": null,
       "grid_gap": null,
       "grid_row": null,
       "grid_template_areas": null,
       "grid_template_columns": null,
       "grid_template_rows": null,
       "height": null,
       "justify_content": null,
       "justify_items": null,
       "left": null,
       "margin": null,
       "max_height": null,
       "max_width": null,
       "min_height": null,
       "min_width": null,
       "object_fit": null,
       "object_position": null,
       "order": null,
       "overflow": null,
       "overflow_x": null,
       "overflow_y": null,
       "padding": null,
       "right": null,
       "top": null,
       "visibility": null,
       "width": null
      }
     },
     "45f3d85a1df343e8a98a948613fb1ff8": {
      "model_module": "@jupyter-widgets/base",
      "model_module_version": "1.2.0",
      "model_name": "LayoutModel",
      "state": {
       "_model_module": "@jupyter-widgets/base",
       "_model_module_version": "1.2.0",
       "_model_name": "LayoutModel",
       "_view_count": null,
       "_view_module": "@jupyter-widgets/base",
       "_view_module_version": "1.2.0",
       "_view_name": "LayoutView",
       "align_content": null,
       "align_items": null,
       "align_self": null,
       "border": null,
       "bottom": null,
       "display": null,
       "flex": null,
       "flex_flow": null,
       "grid_area": null,
       "grid_auto_columns": null,
       "grid_auto_flow": null,
       "grid_auto_rows": null,
       "grid_column": null,
       "grid_gap": null,
       "grid_row": null,
       "grid_template_areas": null,
       "grid_template_columns": null,
       "grid_template_rows": null,
       "height": null,
       "justify_content": null,
       "justify_items": null,
       "left": null,
       "margin": null,
       "max_height": null,
       "max_width": null,
       "min_height": null,
       "min_width": null,
       "object_fit": null,
       "object_position": null,
       "order": null,
       "overflow": null,
       "overflow_x": null,
       "overflow_y": null,
       "padding": null,
       "right": null,
       "top": null,
       "visibility": null,
       "width": null
      }
     },
     "4735c839d665491da1b0bd40c3211495": {
      "model_module": "@jupyter-widgets/controls",
      "model_module_version": "1.5.0",
      "model_name": "HTMLModel",
      "state": {
       "_dom_classes": [],
       "_model_module": "@jupyter-widgets/controls",
       "_model_module_version": "1.5.0",
       "_model_name": "HTMLModel",
       "_view_count": null,
       "_view_module": "@jupyter-widgets/controls",
       "_view_module_version": "1.5.0",
       "_view_name": "HTMLView",
       "description": "",
       "description_tooltip": null,
       "layout": "IPY_MODEL_b31ed1d94a264cd4a60a05586976abd1",
       "placeholder": "​",
       "style": "IPY_MODEL_675856d962f74f13a9fd9da2ff8ed664",
       "value": "Pandas Apply: 100%"
      }
     },
     "4eca7e6f11f348eea981e55f130969fe": {
      "model_module": "@jupyter-widgets/controls",
      "model_module_version": "1.5.0",
      "model_name": "FloatProgressModel",
      "state": {
       "_dom_classes": [],
       "_model_module": "@jupyter-widgets/controls",
       "_model_module_version": "1.5.0",
       "_model_name": "FloatProgressModel",
       "_view_count": null,
       "_view_module": "@jupyter-widgets/controls",
       "_view_module_version": "1.5.0",
       "_view_name": "ProgressView",
       "bar_style": "success",
       "description": "",
       "description_tooltip": null,
       "layout": "IPY_MODEL_45f3d85a1df343e8a98a948613fb1ff8",
       "max": 2903111.0,
       "min": 0.0,
       "orientation": "horizontal",
       "style": "IPY_MODEL_015b7a6b776f4f45a1a1f908ac8d6510",
       "value": 2903111.0
      }
     },
     "675856d962f74f13a9fd9da2ff8ed664": {
      "model_module": "@jupyter-widgets/controls",
      "model_module_version": "1.5.0",
      "model_name": "DescriptionStyleModel",
      "state": {
       "_model_module": "@jupyter-widgets/controls",
       "_model_module_version": "1.5.0",
       "_model_name": "DescriptionStyleModel",
       "_view_count": null,
       "_view_module": "@jupyter-widgets/base",
       "_view_module_version": "1.2.0",
       "_view_name": "StyleView",
       "description_width": ""
      }
     },
     "a53d044b057843299563266c6a6e92fe": {
      "model_module": "@jupyter-widgets/controls",
      "model_module_version": "1.5.0",
      "model_name": "DescriptionStyleModel",
      "state": {
       "_model_module": "@jupyter-widgets/controls",
       "_model_module_version": "1.5.0",
       "_model_name": "DescriptionStyleModel",
       "_view_count": null,
       "_view_module": "@jupyter-widgets/base",
       "_view_module_version": "1.2.0",
       "_view_name": "StyleView",
       "description_width": ""
      }
     },
     "b31ed1d94a264cd4a60a05586976abd1": {
      "model_module": "@jupyter-widgets/base",
      "model_module_version": "1.2.0",
      "model_name": "LayoutModel",
      "state": {
       "_model_module": "@jupyter-widgets/base",
       "_model_module_version": "1.2.0",
       "_model_name": "LayoutModel",
       "_view_count": null,
       "_view_module": "@jupyter-widgets/base",
       "_view_module_version": "1.2.0",
       "_view_name": "LayoutView",
       "align_content": null,
       "align_items": null,
       "align_self": null,
       "border": null,
       "bottom": null,
       "display": null,
       "flex": null,
       "flex_flow": null,
       "grid_area": null,
       "grid_auto_columns": null,
       "grid_auto_flow": null,
       "grid_auto_rows": null,
       "grid_column": null,
       "grid_gap": null,
       "grid_row": null,
       "grid_template_areas": null,
       "grid_template_columns": null,
       "grid_template_rows": null,
       "height": null,
       "justify_content": null,
       "justify_items": null,
       "left": null,
       "margin": null,
       "max_height": null,
       "max_width": null,
       "min_height": null,
       "min_width": null,
       "object_fit": null,
       "object_position": null,
       "order": null,
       "overflow": null,
       "overflow_x": null,
       "overflow_y": null,
       "padding": null,
       "right": null,
       "top": null,
       "visibility": null,
       "width": null
      }
     }
    },
    "version_major": 2,
    "version_minor": 0
   }
  }
 },
 "nbformat": 4,
 "nbformat_minor": 4
}
